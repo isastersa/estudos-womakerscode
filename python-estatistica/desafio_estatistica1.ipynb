{
 "cells": [
  {
   "cell_type": "markdown",
   "metadata": {},
   "source": [
    "# Desafio de Estatística com Python - Frequências e Medidas\n",
    "\n",
    "**Aluna: Isabella Stersa de Oliveira**"
   ]
  },
  {
   "cell_type": "markdown",
   "metadata": {},
   "source": [
    "**Considerando a base de dados de enem_2023.json responda as questões abaixo (os dados são fictícios).** \n",
    "\n",
    "Você é uma pesquisadora de um cursinho para estudantes que querem ingressar na universidade em 2025. Seu objetivo é retirar informações da base de dados do enem do ano anterior para alinhar melhor as estratégias do cursinho para cada estudante. \n",
    "\n",
    "O dado possui 6 colunas, 5 delas representam as disciplinas do ENEM e uma o gênero das pessoas que fizeram a prova. No dado existe a representação de 1000 pessoas, sendo cada uma delas uma linha."
   ]
  },
  {
   "cell_type": "code",
   "execution_count": 1,
   "metadata": {},
   "outputs": [],
   "source": [
    "### Importação de bibliotecas\n",
    "\n",
    "### Bibliotecas base\n",
    "import pandas as pd\n",
    "import numpy as np\n",
    "### Bibliotecas para visualização de dados\n",
    "import seaborn as sns\n",
    "import matplotlib.pyplot as plt\n",
    "### Bibliotecas para estatística\n",
    "import scipy.stats as stat\n",
    "### Bibliotecas para importar datasets"
   ]
  },
  {
   "cell_type": "code",
   "execution_count": 2,
   "metadata": {},
   "outputs": [],
   "source": [
    "# Importando dados\n",
    "df_enem = pd.read_json('enem_2023.json')"
   ]
  },
  {
   "cell_type": "code",
   "execution_count": 3,
   "metadata": {},
   "outputs": [
    {
     "data": {
      "text/html": [
       "<div>\n",
       "<style scoped>\n",
       "    .dataframe tbody tr th:only-of-type {\n",
       "        vertical-align: middle;\n",
       "    }\n",
       "\n",
       "    .dataframe tbody tr th {\n",
       "        vertical-align: top;\n",
       "    }\n",
       "\n",
       "    .dataframe thead th {\n",
       "        text-align: right;\n",
       "    }\n",
       "</style>\n",
       "<table border=\"1\" class=\"dataframe\">\n",
       "  <thead>\n",
       "    <tr style=\"text-align: right;\">\n",
       "      <th></th>\n",
       "      <th>Linguagens</th>\n",
       "      <th>Ciências humanas</th>\n",
       "      <th>Ciências da natureza</th>\n",
       "      <th>Matemática</th>\n",
       "      <th>Redação</th>\n",
       "      <th>Sexo</th>\n",
       "    </tr>\n",
       "  </thead>\n",
       "  <tbody>\n",
       "    <tr>\n",
       "      <th>0</th>\n",
       "      <td>585.669300</td>\n",
       "      <td>686.512178</td>\n",
       "      <td>390.482473</td>\n",
       "      <td>452.281333</td>\n",
       "      <td>546.371706</td>\n",
       "      <td>Homem</td>\n",
       "    </tr>\n",
       "    <tr>\n",
       "      <th>1</th>\n",
       "      <td>359.384608</td>\n",
       "      <td>642.084134</td>\n",
       "      <td>NaN</td>\n",
       "      <td>412.205207</td>\n",
       "      <td>741.825256</td>\n",
       "      <td>Mulher</td>\n",
       "    </tr>\n",
       "    <tr>\n",
       "      <th>2</th>\n",
       "      <td>622.732384</td>\n",
       "      <td>495.510719</td>\n",
       "      <td>443.183580</td>\n",
       "      <td>669.683401</td>\n",
       "      <td>684.515750</td>\n",
       "      <td>Homem</td>\n",
       "    </tr>\n",
       "    <tr>\n",
       "      <th>3</th>\n",
       "      <td>350.164605</td>\n",
       "      <td>602.041588</td>\n",
       "      <td>413.979810</td>\n",
       "      <td>676.608952</td>\n",
       "      <td>671.237114</td>\n",
       "      <td>Homem</td>\n",
       "    </tr>\n",
       "    <tr>\n",
       "      <th>4</th>\n",
       "      <td>384.093657</td>\n",
       "      <td>489.249140</td>\n",
       "      <td>609.758123</td>\n",
       "      <td>520.426698</td>\n",
       "      <td>744.375048</td>\n",
       "      <td>Homem</td>\n",
       "    </tr>\n",
       "  </tbody>\n",
       "</table>\n",
       "</div>"
      ],
      "text/plain": [
       "   Linguagens  Ciências humanas  Ciências da natureza  Matemática     Redação  \\\n",
       "0  585.669300        686.512178            390.482473  452.281333  546.371706   \n",
       "1  359.384608        642.084134                   NaN  412.205207  741.825256   \n",
       "2  622.732384        495.510719            443.183580  669.683401  684.515750   \n",
       "3  350.164605        602.041588            413.979810  676.608952  671.237114   \n",
       "4  384.093657        489.249140            609.758123  520.426698  744.375048   \n",
       "\n",
       "     Sexo  \n",
       "0   Homem  \n",
       "1  Mulher  \n",
       "2   Homem  \n",
       "3   Homem  \n",
       "4   Homem  "
      ]
     },
     "execution_count": 3,
     "metadata": {},
     "output_type": "execute_result"
    }
   ],
   "source": [
    "df_enem.head()"
   ]
  },
  {
   "cell_type": "markdown",
   "metadata": {},
   "source": [
    "1. Qual das disciplinas tem a maior amplitude de nota?"
   ]
  },
  {
   "cell_type": "code",
   "execution_count": 8,
   "metadata": {},
   "outputs": [
    {
     "name": "stdout",
     "output_type": "stream",
     "text": [
      "\n",
      "Maior Amplitude: 729.16 (Redação)\n"
     ]
    }
   ],
   "source": [
    "colunas = ['Linguagens', 'Ciências humanas', 'Ciências da natureza', 'Matemática', 'Redação']\n",
    "amplitudes = {}\n",
    "\n",
    "for c in colunas:\n",
    "    max_valor = df_enem[c].max()\n",
    "    min_valor = df_enem[c].min()\n",
    "    amplitude = max_valor - min_valor\n",
    "    amplitudes[c] = amplitude\n",
    "\n",
    "maior_amp = max(amplitudes.values())\n",
    "materia_maior_amp = max(amplitudes, key=amplitudes.get)\n",
    "\n",
    "print(f'\\nMaior Amplitude: {maior_amp:.2f} ({materia_maior_amp})')"
   ]
  },
  {
   "cell_type": "markdown",
   "metadata": {},
   "source": [
    "2. Qual é a média e a mediana para cada uma das disciplinas? (Lembre-se de remover todos os valores nulos quando considerar a mediana)"
   ]
  },
  {
   "cell_type": "code",
   "execution_count": 29,
   "metadata": {},
   "outputs": [
    {
     "data": {
      "text/plain": [
       "Linguagens              517.467162\n",
       "Ciências humanas        528.351454\n",
       "Ciências da natureza    502.142101\n",
       "Matemática              537.172480\n",
       "Redação                 641.193123\n",
       "dtype: float64"
      ]
     },
     "execution_count": 29,
     "metadata": {},
     "output_type": "execute_result"
    }
   ],
   "source": [
    "# Média\n",
    "df_enem[['Linguagens', 'Ciências humanas', 'Ciências da natureza', 'Matemática', 'Redação']].dropna().mean()"
   ]
  },
  {
   "cell_type": "code",
   "execution_count": 30,
   "metadata": {},
   "outputs": [
    {
     "data": {
      "text/plain": [
       "Linguagens              517.128831\n",
       "Ciências humanas        528.503263\n",
       "Ciências da natureza    502.935209\n",
       "Matemática              532.961486\n",
       "Redação                 639.602691\n",
       "dtype: float64"
      ]
     },
     "execution_count": 30,
     "metadata": {},
     "output_type": "execute_result"
    }
   ],
   "source": [
    "# Mediana\n",
    "df_enem[['Linguagens', 'Ciências humanas', 'Ciências da natureza', 'Matemática', 'Redação']].dropna().median()"
   ]
  },
  {
   "cell_type": "markdown",
   "metadata": {},
   "source": [
    "3. Considerando o curso de Ciência da Computação da UFPE, onde o peso cada uma das disciplinas ponderado:\n",
    "a. Redação - 2\n",
    "b. Matemática e suas Tecnologias - 4\n",
    "c. Linguagens, Códigos e suas Tecnologias - 2\n",
    "d. Ciências Humanas e suas Tecnologias - 1\n",
    "e. Ciências da Natureza e suas Tecnologias - 1\n",
    "\n",
    "Qual o desvio padrão e média das notas dos 500 estudantes mais bem colocados considerando esses pesos?"
   ]
  },
  {
   "cell_type": "code",
   "execution_count": 16,
   "metadata": {},
   "outputs": [
    {
     "name": "stdout",
     "output_type": "stream",
     "text": [
      "Média: 557.2896772018769\n",
      "Desvio padrão: 40.435866299464266\n"
     ]
    }
   ],
   "source": [
    "# Criação da coluna de notas de Computação UFPE conforme a regra dos pesos\n",
    "df_enem['Computação UFPE'] = (\n",
    "    2 * df_enem['Redação'] +\n",
    "    4 * df_enem['Matemática'] +\n",
    "    2 * df_enem['Linguagens'] +\n",
    "    df_enem['Ciências humanas'] +\n",
    "    df_enem['Ciências da natureza']\n",
    ") / 10\n",
    "\n",
    "# Top 500\n",
    "top_500_computacao = df_enem['Computação UFPE'].nlargest(500)\n",
    "\n",
    "print(f'Média: {top_500_computacao.mean()}')\n",
    "print(f'Desvio padrão: {top_500_computacao.std()}')"
   ]
  },
  {
   "cell_type": "markdown",
   "metadata": {},
   "source": [
    "4. Se todos esses estudantes aplicassem para ciência da computação e existem apenas 40 vagas, qual seria a variância e média da nota dos estudantes que entraram no curso de ciência da computação?"
   ]
  },
  {
   "cell_type": "code",
   "execution_count": 17,
   "metadata": {},
   "outputs": [
    {
     "name": "stdout",
     "output_type": "stream",
     "text": [
      "Média: 636.6827415075188\n",
      "Variância: 295.7675036004101\n"
     ]
    }
   ],
   "source": [
    "# Top 40\n",
    "top_40_computacao = df_enem['Computação UFPE'].nlargest(40)\n",
    "\n",
    "print(f'Média: {top_40_computacao.mean()}')\n",
    "print(f'Variância: {top_40_computacao.var()}')"
   ]
  },
  {
   "cell_type": "markdown",
   "metadata": {},
   "source": [
    "5. Qual o valor do teto do terceiro quartil para as disciplinas de matemática e linguagens?"
   ]
  },
  {
   "cell_type": "code",
   "execution_count": 18,
   "metadata": {},
   "outputs": [
    {
     "name": "stdout",
     "output_type": "stream",
     "text": [
      "Teto do terceiro quartil para Matemática: 593.0\n",
      "Teto do terceiro quartil para Linguagens: 572.0\n"
     ]
    }
   ],
   "source": [
    "Q3_matematica = df_enem['Matemática'].quantile(0.75)\n",
    "Q3_linguagens = df_enem['Linguagens'].quantile(0.75)\n",
    "\n",
    "teto_q3_matematica = np.ceil(Q3_matematica)\n",
    "teto_q3_linguagens = np.ceil(Q3_linguagens)\n",
    "\n",
    "print(f\"Teto do terceiro quartil para Matemática: {teto_q3_matematica}\")\n",
    "print(f\"Teto do terceiro quartil para Linguagens: {teto_q3_linguagens}\")"
   ]
  },
  {
   "cell_type": "markdown",
   "metadata": {},
   "source": [
    "6. Faça o histograma de Redação e Linguagens, de 20 em 20 pontos. Podemos dizer que são histogramas simétricos, justifique e classifique se não assimétricas?"
   ]
  },
  {
   "cell_type": "code",
   "execution_count": 22,
   "metadata": {},
   "outputs": [
    {
     "data": {
      "image/png": "[encoded data removed]",
      "text/plain": [
       "<Figure size 1200x600 with 2 Axes>"
      ]
     },
     "metadata": {},
     "output_type": "display_data"
    }
   ],
   "source": [
    "intervalos_redacao = np.arange(df_enem['Redação'].min() - 10, df_enem['Redação'].max() + 20, 20)\n",
    "intervalos_linguagens = np.arange(df_enem['Linguagens'].min() - 10, df_enem['Linguagens'].max() + 20, 20)\n",
    "\n",
    "plt.figure(figsize=(12, 6))\n",
    "# Histograma de Redação\n",
    "plt.subplot(1, 2, 1)\n",
    "sns.histplot(df_enem['Redação'], bins=intervalos_redacao, kde=False)\n",
    "plt.title('Histograma de Redação')\n",
    "plt.xlabel('Pontuação')\n",
    "plt.ylabel('Frequência')\n",
    "# Histograma de Linguagens\n",
    "plt.subplot(1, 2, 2)\n",
    "sns.histplot(df_enem['Linguagens'], bins=intervalos_linguagens, kde=False)\n",
    "plt.title('Histograma de Linguagens')\n",
    "plt.xlabel('Pontuação')\n",
    "plt.ylabel('Frequência')\n",
    "\n",
    "plt.tight_layout()\n",
    "plt.show()"
   ]
  },
  {
   "cell_type": "markdown",
   "metadata": {},
   "source": [
    "7. Agora coloque um range fixo de 0 até 1000, você ainda tem a mesma opinião quanto a simetria? [plt.hist(dado, bins=_, range=[0, 1000])"
   ]
  },
  {
   "cell_type": "code",
   "execution_count": 23,
   "metadata": {},
   "outputs": [
    {
     "data": {
      "image/png": "[encoded data removed]",
      "text/plain": [
       "<Figure size 1200x600 with 2 Axes>"
      ]
     },
     "metadata": {},
     "output_type": "display_data"
    }
   ],
   "source": [
    "plt.figure(figsize=(12, 6))\n",
    "# Histograma de Redação\n",
    "plt.subplot(1, 2, 1)\n",
    "plt.hist(df_enem['Redação'], bins=range(0, 1020, 20), range=[0, 1000], edgecolor='black')\n",
    "plt.title('Histograma de Redação')\n",
    "plt.xlabel('Pontuação')\n",
    "plt.ylabel('Frequência')\n",
    "# Histograma de Linguagens\n",
    "plt.subplot(1, 2, 2)\n",
    "plt.hist(df_enem['Linguagens'], bins=range(0, 1020, 20), range=[0, 1000], edgecolor='black')\n",
    "plt.title('Histograma de Linguagens')\n",
    "plt.xlabel('Pontuação')\n",
    "plt.ylabel('Frequência')\n",
    "\n",
    "plt.tight_layout()\n",
    "plt.show()"
   ]
  },
  {
   "cell_type": "markdown",
   "metadata": {},
   "source": [
    "8. Faça um boxplot do quartil de todas as disciplinas de ciências da natureza e redação. É possível enxergar outliers? Utilize o método IQR."
   ]
  },
  {
   "cell_type": "code",
   "execution_count": 24,
   "metadata": {},
   "outputs": [
    {
     "data": {
      "image/png": "[encoded data removed]",
      "text/plain": [
       "<Figure size 1000x600 with 1 Axes>"
      ]
     },
     "metadata": {},
     "output_type": "display_data"
    }
   ],
   "source": [
    "# Boxplot\n",
    "plt.figure(figsize=(10, 6))\n",
    "sns.boxplot(data=df_enem[['Ciências da natureza', 'Redação']])\n",
    "plt.title('Boxplot das Disciplinas de Ciências da Natureza e Redação')\n",
    "plt.xlabel('Disciplina')\n",
    "plt.ylabel('Pontuação')\n",
    "plt.show()"
   ]
  },
  {
   "cell_type": "code",
   "execution_count": 34,
   "metadata": {},
   "outputs": [
    {
     "name": "stdout",
     "output_type": "stream",
     "text": [
      "325    802.004568\n",
      "482    732.502964\n",
      "483    718.396061\n",
      "Name: Ciências da natureza, dtype: float64\n"
     ]
    }
   ],
   "source": [
    "# Ciências da Natureza\n",
    "Q1_natureza= df_enem['Ciências da natureza'].quantile(0.25)\n",
    "Q3_natureza = df_enem['Ciências da natureza'].quantile(0.75)\n",
    "IQR_natureza = Q3_natureza - Q1_natureza\n",
    "\n",
    "limite_inferior_natureza = Q1_natureza - 1.5 * IQR_natureza\n",
    "limite_superior_natureza = Q3_natureza + 1.5 * IQR_natureza\n",
    "\n",
    "outliers_natureza = df_enem[(df_enem['Ciências da natureza'] < limite_inferior_natureza) | (df_enem['Ciências da natureza'] > limite_superior_natureza)]\n",
    "\n",
    "print(f'Número de Outliers: {outliers_natureza.shape[0]}')\n",
    "print(outliers_natureza['Ciências da natureza'])"
   ]
  },
  {
   "cell_type": "code",
   "execution_count": 36,
   "metadata": {},
   "outputs": [
    {
     "name": "stdout",
     "output_type": "stream",
     "text": [
      "Número de Outliers: 239\n",
      "1      741.825256\n",
      "4      744.375048\n",
      "9      270.839965\n",
      "10     785.132708\n",
      "11     758.966704\n",
      "          ...    \n",
      "965    881.465882\n",
      "975    722.175347\n",
      "990    795.671459\n",
      "996    715.984249\n",
      "997    798.408655\n",
      "Name: Redação, Length: 239, dtype: float64\n"
     ]
    }
   ],
   "source": [
    "# Redação\n",
    "Q1_redacao= df_enem['Redação'].quantile(0.25)\n",
    "Q3_redacao = df_enem['Redação'].quantile(0.75)\n",
    "IQR_redacao = Q3_redacao - Q1_redacao\n",
    "\n",
    "limite_inferior_redacao = Q1_redacao - 1.5 * IQR_redacao\n",
    "limite_superior_redacao = Q3_redacao + 1.5 * IQR_redacao\n",
    "\n",
    "outliers_redacao = df_enem[(df_enem['Redação'] < limite_inferior_redacao) | (df_enem['Redação'] > limite_superior_natureza)]\n",
    "\n",
    "print(f'Número de Outliers: {outliers_redacao.shape[0]}')\n",
    "print(outliers_redacao['Redação'])"
   ]
  },
  {
   "cell_type": "markdown",
   "metadata": {},
   "source": [
    "9. Remova todos os outliers e verifique se eles são passíveis de alterar a média nacional significativamente? (considere significativamente um valor acima de 5%)"
   ]
  },
  {
   "cell_type": "code",
   "execution_count": 37,
   "metadata": {},
   "outputs": [],
   "source": [
    "# Removendo Outliers\n",
    "\n",
    "def remover_outliers(df, coluna):\n",
    "    Q1 = df[coluna].quantile(0.25)\n",
    "    Q3 = df[coluna].quantile(0.75)\n",
    "    IQR = Q3 - Q1\n",
    "    \n",
    "    limite_inferior = Q1 - 1.5 * IQR\n",
    "    limite_superior = Q3 + 1.5 * IQR\n",
    "    \n",
    "    return df[(df[coluna] >= limite_inferior) & (df[coluna] <= limite_superior)]\n",
    "\n",
    "df_sem_outliers = df_enem.copy()\n",
    "colunas = ['Linguagens', 'Ciências humanas', 'Ciências da natureza', 'Matemática', 'Redação']\n",
    "\n",
    "for coluna in colunas:\n",
    "    df_sem_outliers = remover_outliers(df_sem_outliers, coluna)"
   ]
  },
  {
   "cell_type": "code",
   "execution_count": 41,
   "metadata": {},
   "outputs": [
    {
     "name": "stdout",
     "output_type": "stream",
     "text": [
      "Média Original: 542.9263730172955\n",
      "Média sem Outliers: 544.3471131842695\n",
      "\n",
      "Diferença Percentual na Média Geral: 0.26%\n"
     ]
    }
   ],
   "source": [
    "# Média Geral\n",
    "media_original = df_enem[colunas].mean().mean()\n",
    "media_sem_outliers = df_sem_outliers[colunas].mean().mean()\n",
    "\n",
    "print(f'Média Original: {media_original}')\n",
    "print(f'Média sem Outliers: {media_sem_outliers}')\n",
    "\n",
    "diferenca_perc = ((media_sem_outliers - media_original) / media_original) * 100\n",
    "\n",
    "print(f\"\\nDiferença Percentual na Média Geral: {diferenca_perc:.2f}%\")\n"
   ]
  },
  {
   "cell_type": "markdown",
   "metadata": {},
   "source": [
    "10. Considerando valores nulos, tente encontrar qual seria a melhor medida de tendência que pode substituir as notas nulas. Média, moda ou mediana? Substitua o valor por todos os três e diga qual delas altera menos a média geral e o desvio padrão."
   ]
  },
  {
   "cell_type": "code",
   "execution_count": 44,
   "metadata": {},
   "outputs": [
    {
     "name": "stdout",
     "output_type": "stream",
     "text": [
      "Médias:\n",
      " Linguagens              514.524809\n",
      "Ciências humanas        527.042281\n",
      "Ciências da natureza    499.315583\n",
      "Matemática              535.965660\n",
      "Redação                 637.783532\n",
      "dtype: float64\n",
      "\n",
      "Medianas:\n",
      " Linguagens              515.045250\n",
      "Ciências humanas        524.519920\n",
      "Ciências da natureza    500.479263\n",
      "Matemática              533.247767\n",
      "Redação                 635.273973\n",
      "dtype: float64\n",
      "\n",
      "Modas:\n",
      " Linguagens              287.000000\n",
      "Ciências humanas        289.900000\n",
      "Ciências da natureza    314.400000\n",
      "Matemática              319.800000\n",
      "Redação                 270.839965\n",
      "Name: 0, dtype: float64\n"
     ]
    }
   ],
   "source": [
    "# Calcular a média, mediana e moda de cada disciplina\n",
    "medias = df_enem[colunas].mean()\n",
    "medianas = df_enem[colunas].median()\n",
    "modas = df_enem[colunas].mode().iloc[0] \n",
    "\n",
    "print(\"Médias:\\n\", medias)\n",
    "print(\"\\nMedianas:\\n\", medianas)\n",
    "print(\"\\nModas:\\n\", modas)\n"
   ]
  },
  {
   "cell_type": "code",
   "execution_count": null,
   "metadata": {},
   "outputs": [],
   "source": [
    "df_media = df_enem.fillna(medias)\n",
    "df_mediana = df_enem.fillna(medianas)\n",
    "df_moda = df_enem.fillna(modas)\n",
    "\n",
    "media_geral_media = df_media[colunas].mean().mean()\n",
    "desvio_padrao_media = df_media[colunas].std().mean()\n",
    "\n",
    "media_geral_mediana = df_mediana[colunas].mean().mean()\n",
    "desvio_padrao_mediana = df_mediana[colunas].std().mean()\n",
    "\n",
    "media_geral_moda = df_moda[colunas].mean().mean()\n",
    "desvio_padrao_moda = df_moda[colunas].std().mean()\n",
    "\n",
    "print(f\"Média Geral após substituição pela Média: {media_geral_media:.2f}, Desvio Padrão: {desvio_padrao_media:.2f}\")\n",
    "print(f\"Média Geral após substituição pela Mediana: {media_geral_mediana:.2f}, Desvio Padrão: {desvio_padrao_mediana:.2f}\")\n",
    "print(f\"Média Geral após substituição pela Moda: {media_geral_moda:.2f}, Desvio Padrão: {desvio_padrao_moda:.2f}\")\n"
   ]
  },
  {
   "cell_type": "code",
   "execution_count": 46,
   "metadata": {},
   "outputs": [
    {
     "name": "stdout",
     "output_type": "stream",
     "text": [
      "\n",
      "Diferença Percentual na Média Geral:\n",
      "Substituição pela Média: 0.00%\n",
      "Substituição pela Mediana: 0.02%\n",
      "Substituição pela Moda: 5.12%\n",
      "\n",
      "Diferença Percentual no Desvio Padrão:\n",
      "Substituição pela Média: 5.88%\n",
      "Substituição pela Mediana: 5.87%\n",
      "Substituição pela Moda: 28.41%\n"
     ]
    }
   ],
   "source": [
    "# Calcular a diferença percentual na média geral e desvio padrão\n",
    "diferenca_media_media = abs((media_geral_media - medias.mean()) / medias.mean()) * 100\n",
    "diferenca_desvio_media = abs((desvio_padrao_media - df_enem[colunas].std().mean()) / df_enem[colunas].std().mean()) * 100\n",
    "\n",
    "diferenca_media_mediana = abs((media_geral_mediana - medias.mean()) / medias.mean()) * 100\n",
    "diferenca_desvio_mediana = abs((desvio_padrao_mediana - df_enem[colunas].std().mean()) / df_enem[colunas].std().mean()) * 100\n",
    "\n",
    "diferenca_media_moda = abs((media_geral_moda - medias.mean()) / medias.mean()) * 100\n",
    "diferenca_desvio_moda = abs((desvio_padrao_moda - df_enem[colunas].std().mean()) / df_enem[colunas].std().mean()) * 100\n",
    "\n",
    "print(\"\\nDiferença Percentual na Média Geral:\")\n",
    "print(f\"Substituição pela Média: {diferenca_media_media:.2f}%\")\n",
    "print(f\"Substituição pela Mediana: {diferenca_media_mediana:.2f}%\")\n",
    "print(f\"Substituição pela Moda: {diferenca_media_moda:.2f}%\")\n",
    "\n",
    "print(\"\\nDiferença Percentual no Desvio Padrão:\")\n",
    "print(f\"Substituição pela Média: {diferenca_desvio_media:.2f}%\")\n",
    "print(f\"Substituição pela Mediana: {diferenca_desvio_mediana:.2f}%\")\n",
    "print(f\"Substituição pela Moda: {diferenca_desvio_moda:.2f}%\")\n"
   ]
  },
  {
   "cell_type": "code",
   "execution_count": null,
   "metadata": {},
   "outputs": [],
   "source": [
    "# Pelos resultados apresentados acima, a melhor substituição é pela média"
   ]
  }
 ],
 "metadata": {
  "kernelspec": {
   "display_name": "base",
   "language": "python",
   "name": "python3"
  },
  "language_info": {
   "codemirror_mode": {
    "name": "ipython",
    "version": 3
   },
   "file_extension": ".py",
   "mimetype": "text/x-python",
   "name": "python",
   "nbconvert_exporter": "python",
   "pygments_lexer": "ipython3",
   "version": "3.11.5"
  }
 },
 "nbformat": 4,
 "nbformat_minor": 2
}
