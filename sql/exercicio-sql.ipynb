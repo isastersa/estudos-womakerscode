{
 "cells": [
  {
   "cell_type": "markdown",
   "metadata": {},
   "source": [
    "# Exercícios - Banco de Dados SQL\n",
    "\n",
    "Exercícios realizados no Bootcamp de Data Analytics da WoMakersCode.\n",
    "\n",
    "**Aluna: Isabella Stersa de Oliveira**"
   ]
  },
  {
   "cell_type": "code",
   "execution_count": 1,
   "metadata": {},
   "outputs": [],
   "source": [
    "# Importar biblioteca\n",
    "import sqlite3"
   ]
  },
  {
   "cell_type": "code",
   "execution_count": 4,
   "metadata": {},
   "outputs": [],
   "source": [
    "# Criar o banco de dados SQLite\n",
    "conexao = sqlite3.connect('banco_exercicio.db')\n",
    "# Criar um cursor\n",
    "cursor = conexao.cursor()"
   ]
  },
  {
   "cell_type": "markdown",
   "metadata": {},
   "source": [
    "1. Crie uma tabela chamada \"alunos\" com os seguintes campos: id (inteiro), nome (texto), idade (inteiro) e curso (texto).\n"
   ]
  },
  {
   "cell_type": "code",
   "execution_count": 5,
   "metadata": {},
   "outputs": [
    {
     "data": {
      "text/plain": [
       "<sqlite3.Cursor at 0x1046aa940>"
      ]
     },
     "execution_count": 5,
     "metadata": {},
     "output_type": "execute_result"
    }
   ],
   "source": [
    "cursor.execute('''\n",
    "CREATE TABLE IF NOT EXISTS alunos (\n",
    "    id INTEGER PRIMARY KEY AUTOINCREMENT,\n",
    "    nome VARCHAR(200),\n",
    "    idade INT,\n",
    "    curso VARCHAR(100)\n",
    ")\n",
    "''')"
   ]
  },
  {
   "cell_type": "markdown",
   "metadata": {},
   "source": [
    "2. Insira pelo menos 5 registros de alunos na tabela que você criou no exercício anterior."
   ]
  },
  {
   "cell_type": "code",
   "execution_count": 6,
   "metadata": {},
   "outputs": [
    {
     "data": {
      "text/plain": [
       "<sqlite3.Cursor at 0x1046aa940>"
      ]
     },
     "execution_count": 6,
     "metadata": {},
     "output_type": "execute_result"
    }
   ],
   "source": [
    "cursor.execute(\"INSERT INTO alunos (nome, idade, curso) VALUES ('Ana Silva', 20, 'Matemática')\")\n",
    "cursor.execute(\"INSERT INTO alunos (nome, idade, curso) VALUES ('João Pereira', 22, 'Engenharia de Computação')\")\n",
    "cursor.execute(\"INSERT INTO alunos (nome, idade, curso) VALUES ('Maria Oliveira', 21, 'Biologia')\")\n",
    "cursor.execute(\"INSERT INTO alunos (nome, idade, curso) VALUES ('Carlos Santos', 23, 'Química')\")\n",
    "cursor.execute(\"INSERT INTO alunos (nome, idade, curso) VALUES ('Fernanda Costa', 19, 'Física')\")\n",
    "cursor.execute(\"INSERT INTO alunos (nome, idade, curso) VALUES ('Lucas Almeida', 24, 'Economia')\")\n",
    "cursor.execute(\"INSERT INTO alunos (nome, idade, curso) VALUES ('Juliana Ferreira', 22, 'Administração')\")\n",
    "cursor.execute(\"INSERT INTO alunos (nome, idade, curso) VALUES ('Roberto Lima', 20, 'Psicologia')\")\n",
    "cursor.execute(\"INSERT INTO alunos (nome, idade, curso) VALUES ('Mariana Rocha', 21, 'Arquitetura')\")\n",
    "cursor.execute(\"INSERT INTO alunos (nome, idade, curso) VALUES ('Paulo Souza', 23, 'Medicina')\")\n",
    "cursor.execute(\"INSERT INTO alunos (nome, idade, curso) VALUES ('Tatiane Lima', 22, 'Direito')\")\n",
    "cursor.execute(\"INSERT INTO alunos (nome, idade, curso) VALUES ('Felipe Martins', 21, 'Engenharia Civil')\")\n",
    "cursor.execute(\"INSERT INTO alunos (nome, idade, curso) VALUES ('Beatriz Castro', 20, 'Educação Física')\")\n",
    "cursor.execute(\"INSERT INTO alunos (nome, idade, curso) VALUES ('Gustavo Oliveira', 24, 'Matemática')\")\n",
    "cursor.execute(\"INSERT INTO alunos (nome, idade, curso) VALUES ('Jéssica Campos', 19, 'Ciências Sociais')\")\n",
    "cursor.execute(\"INSERT INTO alunos (nome, idade, curso) VALUES ('Rafael Silva', 22, 'História')\")\n",
    "cursor.execute(\"INSERT INTO alunos (nome, idade, curso) VALUES ('Camila Costa', 21, 'Design Gráfico')\")\n",
    "cursor.execute(\"INSERT INTO alunos (nome, idade, curso) VALUES ('Pedro Henrique', 23, 'Engenharia Elétrica')\")\n",
    "cursor.execute(\"INSERT INTO alunos (nome, idade, curso) VALUES ('Larissa Gomes', 20, 'Administração')\")\n",
    "cursor.execute(\"INSERT INTO alunos (nome, idade, curso) VALUES ('Bruno Santos', 22, 'Engenharia de Produção')\")\n",
    "cursor.execute(\"INSERT INTO alunos (nome, idade, curso) VALUES ('Gabriela Martins', 21, 'Veterinária')\")\n",
    "\n",
    "conexao.commit()"
   ]
  },
  {
   "cell_type": "markdown",
   "metadata": {},
   "source": [
    "3. Consultas Básicas\n",
    "Escreva consultas SQL para realizar as seguintes tarefas:\n",
    "\n",
    "a) Selecionar todos os registros da tabela \"alunos\".\n"
   ]
  },
  {
   "cell_type": "code",
   "execution_count": 7,
   "metadata": {},
   "outputs": [
    {
     "name": "stdout",
     "output_type": "stream",
     "text": [
      "(1, 'Ana Silva', 20, 'Matemática')\n",
      "(2, 'João Pereira', 22, 'Engenharia de Computação')\n",
      "(3, 'Maria Oliveira', 21, 'Biologia')\n",
      "(4, 'Carlos Santos', 23, 'Química')\n",
      "(5, 'Fernanda Costa', 19, 'Física')\n",
      "(6, 'Lucas Almeida', 24, 'Economia')\n",
      "(7, 'Juliana Ferreira', 22, 'Administração')\n",
      "(8, 'Roberto Lima', 20, 'Psicologia')\n",
      "(9, 'Mariana Rocha', 21, 'Arquitetura')\n",
      "(10, 'Paulo Souza', 23, 'Medicina')\n",
      "(11, 'Tatiane Lima', 22, 'Direito')\n",
      "(12, 'Felipe Martins', 21, 'Engenharia Civil')\n",
      "(13, 'Beatriz Castro', 20, 'Educação Física')\n",
      "(14, 'Gustavo Oliveira', 24, 'Matemática')\n",
      "(15, 'Jéssica Campos', 19, 'Ciências Sociais')\n",
      "(16, 'Rafael Silva', 22, 'História')\n",
      "(17, 'Camila Costa', 21, 'Design Gráfico')\n",
      "(18, 'Pedro Henrique', 23, 'Engenharia Elétrica')\n",
      "(19, 'Larissa Gomes', 20, 'Administração')\n",
      "(20, 'Bruno Santos', 22, 'Engenharia de Produção')\n",
      "(21, 'Gabriela Martins', 21, 'Veterinária')\n"
     ]
    }
   ],
   "source": [
    "dados = cursor.execute('SELECT * FROM alunos')\n",
    "\n",
    "for usuario in dados:\n",
    "    print(usuario)"
   ]
  },
  {
   "cell_type": "markdown",
   "metadata": {},
   "source": [
    "b) Selecionar o nome e a idade dos alunos com mais de 20 anos."
   ]
  },
  {
   "cell_type": "code",
   "execution_count": 8,
   "metadata": {},
   "outputs": [
    {
     "name": "stdout",
     "output_type": "stream",
     "text": [
      "(2, 'João Pereira', 22, 'Engenharia de Computação')\n",
      "(3, 'Maria Oliveira', 21, 'Biologia')\n",
      "(4, 'Carlos Santos', 23, 'Química')\n",
      "(6, 'Lucas Almeida', 24, 'Economia')\n",
      "(7, 'Juliana Ferreira', 22, 'Administração')\n",
      "(9, 'Mariana Rocha', 21, 'Arquitetura')\n",
      "(10, 'Paulo Souza', 23, 'Medicina')\n",
      "(11, 'Tatiane Lima', 22, 'Direito')\n",
      "(12, 'Felipe Martins', 21, 'Engenharia Civil')\n",
      "(14, 'Gustavo Oliveira', 24, 'Matemática')\n",
      "(16, 'Rafael Silva', 22, 'História')\n",
      "(17, 'Camila Costa', 21, 'Design Gráfico')\n",
      "(18, 'Pedro Henrique', 23, 'Engenharia Elétrica')\n",
      "(20, 'Bruno Santos', 22, 'Engenharia de Produção')\n",
      "(21, 'Gabriela Martins', 21, 'Veterinária')\n"
     ]
    }
   ],
   "source": [
    "dados = cursor.execute('SELECT * FROM alunos WHERE idade > 20')\n",
    "\n",
    "for usuario in dados:\n",
    "    print(usuario)"
   ]
  },
  {
   "cell_type": "markdown",
   "metadata": {},
   "source": [
    "c) Selecionar os alunos do curso de \"Engenharia\" em ordem alfabética.\n"
   ]
  },
  {
   "cell_type": "code",
   "execution_count": 11,
   "metadata": {},
   "outputs": [
    {
     "name": "stdout",
     "output_type": "stream",
     "text": [
      "(2, 'João Pereira', 22, 'Engenharia de Computação')\n",
      "(12, 'Felipe Martins', 21, 'Engenharia Civil')\n",
      "(18, 'Pedro Henrique', 23, 'Engenharia Elétrica')\n",
      "(20, 'Bruno Santos', 22, 'Engenharia de Produção')\n"
     ]
    }
   ],
   "source": [
    "dados = cursor.execute(\"SELECT * FROM alunos WHERE curso LIKE 'Engenharia%'\")\n",
    "\n",
    "for usuario in dados:\n",
    "    print(usuario)"
   ]
  },
  {
   "cell_type": "markdown",
   "metadata": {},
   "source": [
    "d) Contar o número total de alunos na tabela"
   ]
  },
  {
   "cell_type": "code",
   "execution_count": 23,
   "metadata": {},
   "outputs": [
    {
     "name": "stdout",
     "output_type": "stream",
     "text": [
      "Total de alunos na tabela: 20\n"
     ]
    }
   ],
   "source": [
    "dados = cursor.execute(\"SELECT COUNT(*) FROM alunos\")\n",
    "\n",
    "for usuario in dados:\n",
    "    print(f'Total de alunos na tabela: {usuario[0]}')"
   ]
  },
  {
   "cell_type": "markdown",
   "metadata": {},
   "source": [
    "4. Atualização e Remoção\n",
    "\n",
    "a) Atualize a idade de um aluno específico na tabela."
   ]
  },
  {
   "cell_type": "code",
   "execution_count": 13,
   "metadata": {},
   "outputs": [
    {
     "name": "stdout",
     "output_type": "stream",
     "text": [
      "(4, 'Carlos Santos', 28, 'Química')\n"
     ]
    }
   ],
   "source": [
    "cursor.execute(\"UPDATE alunos SET idade = 28 WHERE id = 4\")\n",
    "conexao.commit()\n",
    "\n",
    "dados = cursor.execute(\"SELECT * FROM alunos WHERE id =4\")\n",
    "\n",
    "for usuario in dados:\n",
    "    print(usuario)"
   ]
  },
  {
   "cell_type": "markdown",
   "metadata": {},
   "source": [
    "b) Remova um aluno pelo seu ID."
   ]
  },
  {
   "cell_type": "code",
   "execution_count": 15,
   "metadata": {},
   "outputs": [
    {
     "name": "stdout",
     "output_type": "stream",
     "text": [
      "(1, 'Ana Silva', 20, 'Matemática')\n",
      "(2, 'João Pereira', 22, 'Engenharia de Computação')\n",
      "(3, 'Maria Oliveira', 21, 'Biologia')\n",
      "(4, 'Carlos Santos', 28, 'Química')\n",
      "(5, 'Fernanda Costa', 19, 'Física')\n",
      "(6, 'Lucas Almeida', 24, 'Economia')\n",
      "(7, 'Juliana Ferreira', 22, 'Administração')\n",
      "(8, 'Roberto Lima', 20, 'Psicologia')\n",
      "(9, 'Mariana Rocha', 21, 'Arquitetura')\n",
      "(10, 'Paulo Souza', 23, 'Medicina')\n",
      "(11, 'Tatiane Lima', 22, 'Direito')\n",
      "(12, 'Felipe Martins', 21, 'Engenharia Civil')\n",
      "(13, 'Beatriz Castro', 20, 'Educação Física')\n",
      "(14, 'Gustavo Oliveira', 24, 'Matemática')\n",
      "(15, 'Jéssica Campos', 19, 'Ciências Sociais')\n",
      "(16, 'Rafael Silva', 22, 'História')\n",
      "(17, 'Camila Costa', 21, 'Design Gráfico')\n",
      "(18, 'Pedro Henrique', 23, 'Engenharia Elétrica')\n",
      "(19, 'Larissa Gomes', 20, 'Administração')\n",
      "(20, 'Bruno Santos', 22, 'Engenharia de Produção')\n"
     ]
    }
   ],
   "source": [
    "cursor.execute(\"DELETE FROM alunos WHERE id = 21\")\n",
    "conexao.commit()\n",
    "\n",
    "dados = cursor.execute(\"SELECT * FROM alunos\")\n",
    "\n",
    "for usuario in dados:\n",
    "    print(usuario)"
   ]
  },
  {
   "cell_type": "markdown",
   "metadata": {},
   "source": [
    "5. Crie uma tabela chamada \"clientes\" com os campos: id (chave primária), nome (texto), idade (inteiro) e saldo (float). Insira alguns registros de clientes na tabela."
   ]
  },
  {
   "cell_type": "code",
   "execution_count": 16,
   "metadata": {},
   "outputs": [
    {
     "data": {
      "text/plain": [
       "<sqlite3.Cursor at 0x1046aa940>"
      ]
     },
     "execution_count": 16,
     "metadata": {},
     "output_type": "execute_result"
    }
   ],
   "source": [
    "cursor.execute('''\n",
    "CREATE TABLE IF NOT EXISTS clientes (\n",
    "    id INTEGER PRIMARY KEY AUTOINCREMENT,\n",
    "    nome VARCHAR(200),\n",
    "    idade INT,\n",
    "    saldo FLOAT\n",
    ")\n",
    "''')"
   ]
  },
  {
   "cell_type": "code",
   "execution_count": 17,
   "metadata": {},
   "outputs": [
    {
     "data": {
      "text/plain": [
       "<sqlite3.Cursor at 0x1046aa940>"
      ]
     },
     "execution_count": 17,
     "metadata": {},
     "output_type": "execute_result"
    }
   ],
   "source": [
    "cursor.execute(\"INSERT INTO clientes (nome, idade, saldo) VALUES ('Ana Silva', 28, 1000.50)\")\n",
    "cursor.execute(\"INSERT INTO clientes (nome, idade, saldo) VALUES ('João Pereira', 35, 1500.75)\")\n",
    "cursor.execute(\"INSERT INTO clientes (nome, idade, saldo) VALUES ('Maria Oliveira', 42, 2000.00)\")\n",
    "cursor.execute(\"INSERT INTO clientes (nome, idade, saldo) VALUES ('Carlos Santos', 30, 2500.25)\")\n",
    "cursor.execute(\"INSERT INTO clientes (nome, idade, saldo) VALUES ('Fernanda Costa', 29, 3000.00)\")\n",
    "cursor.execute(\"INSERT INTO clientes (nome, idade, saldo) VALUES ('Lucas Almeida', 31, 3500.50)\")\n",
    "cursor.execute(\"INSERT INTO clientes (nome, idade, saldo) VALUES ('Juliana Ferreira', 27, 4000.00)\")\n",
    "cursor.execute(\"INSERT INTO clientes (nome, idade, saldo) VALUES ('Roberto Lima', 38, 4500.75)\")\n",
    "cursor.execute(\"INSERT INTO clientes (nome, idade, saldo) VALUES ('Mariana Rocha', 33, 5000.00)\")\n",
    "cursor.execute(\"INSERT INTO clientes (nome, idade, saldo) VALUES ('Paulo Souza', 40, 5500.50)\")\n",
    "cursor.execute(\"INSERT INTO clientes (nome, idade, saldo) VALUES ('Tatiane Lima', 26, 6000.00)\")\n",
    "cursor.execute(\"INSERT INTO clientes (nome, idade, saldo) VALUES ('Felipe Martins', 37, 6500.75)\")\n",
    "cursor.execute(\"INSERT INTO clientes (nome, idade, saldo) VALUES ('Beatriz Castro', 34, 7000.00)\")\n",
    "cursor.execute(\"INSERT INTO clientes (nome, idade, saldo) VALUES ('Gustavo Oliveira', 41, 7500.50)\")\n",
    "cursor.execute(\"INSERT INTO clientes (nome, idade, saldo) VALUES ('Jéssica Campos', 32, 8000.00)\")\n",
    "cursor.execute(\"INSERT INTO clientes (nome, idade, saldo) VALUES ('Rafael Silva', 39, 8500.75)\")\n",
    "cursor.execute(\"INSERT INTO clientes (nome, idade, saldo) VALUES ('Camila Costa', 29, 9000.00)\")\n",
    "cursor.execute(\"INSERT INTO clientes (nome, idade, saldo) VALUES ('Pedro Henrique', 36, 9500.50)\")\n",
    "cursor.execute(\"INSERT INTO clientes (nome, idade, saldo) VALUES ('Larissa Gomes', 31, 10000.00)\")\n",
    "cursor.execute(\"INSERT INTO clientes (nome, idade, saldo) VALUES ('Bruno Santos', 28, 10500.75)\")\n",
    "\n",
    "conexao.commit()"
   ]
  },
  {
   "cell_type": "markdown",
   "metadata": {},
   "source": [
    "6. Escreva consultas SQL para realizar as seguintes tarefas:\n",
    "\n",
    "a) Selecione o nome e a idade dos clientes com idade superior a 30 anos."
   ]
  },
  {
   "cell_type": "code",
   "execution_count": 18,
   "metadata": {},
   "outputs": [
    {
     "name": "stdout",
     "output_type": "stream",
     "text": [
      "('João Pereira', 35)\n",
      "('Maria Oliveira', 42)\n",
      "('Lucas Almeida', 31)\n",
      "('Roberto Lima', 38)\n",
      "('Mariana Rocha', 33)\n",
      "('Paulo Souza', 40)\n",
      "('Felipe Martins', 37)\n",
      "('Beatriz Castro', 34)\n",
      "('Gustavo Oliveira', 41)\n",
      "('Jéssica Campos', 32)\n",
      "('Rafael Silva', 39)\n",
      "('Pedro Henrique', 36)\n",
      "('Larissa Gomes', 31)\n"
     ]
    }
   ],
   "source": [
    "dados = cursor.execute(\"SELECT nome, idade FROM clientes WHERE idade > 30\")\n",
    "\n",
    "for usuario in dados:\n",
    "    print(usuario)"
   ]
  },
  {
   "cell_type": "markdown",
   "metadata": {},
   "source": [
    "b) Calcule o saldo médio dos clientes."
   ]
  },
  {
   "cell_type": "code",
   "execution_count": 24,
   "metadata": {},
   "outputs": [
    {
     "name": "stdout",
     "output_type": "stream",
     "text": [
      "Saldo médio dos clientes: R$ 5750.32\n"
     ]
    }
   ],
   "source": [
    "dados = cursor.execute(\"SELECT AVG(saldo) FROM clientes\")\n",
    "\n",
    "for usuario in dados:\n",
    "    print(f'Saldo médio dos clientes: R$ {usuario[0]:.2f}')"
   ]
  },
  {
   "cell_type": "markdown",
   "metadata": {},
   "source": [
    "c) Encontre o cliente com o saldo máximo."
   ]
  },
  {
   "cell_type": "code",
   "execution_count": 25,
   "metadata": {},
   "outputs": [
    {
     "name": "stdout",
     "output_type": "stream",
     "text": [
      "(20, 'Bruno Santos', 28, 10500.75)\n"
     ]
    }
   ],
   "source": [
    "dados = cursor.execute(\"SELECT * FROM clientes WHERE saldo IN (SELECT MAX(saldo) FROM clientes)\")\n",
    "\n",
    "for usuario in dados:\n",
    "    print(usuario)"
   ]
  },
  {
   "cell_type": "markdown",
   "metadata": {},
   "source": [
    "d) Conte quantos clientes têm saldo acima de 1000."
   ]
  },
  {
   "cell_type": "code",
   "execution_count": 26,
   "metadata": {},
   "outputs": [
    {
     "name": "stdout",
     "output_type": "stream",
     "text": [
      "Quantidade de clientes com saldo acima de R$ 1000,00: 20\n"
     ]
    }
   ],
   "source": [
    "dados = cursor.execute(\"SELECT COUNT(*) FROM clientes WHERE saldo > 1000\")\n",
    "\n",
    "for usuario in dados:\n",
    "    print(f'Quantidade de clientes com saldo acima de R$ 1000,00: {usuario[0]}')"
   ]
  },
  {
   "cell_type": "markdown",
   "metadata": {},
   "source": [
    "7. Atualização e Remoção com Condições\n",
    "\n",
    "a) Atualize o saldo de um cliente específico."
   ]
  },
  {
   "cell_type": "code",
   "execution_count": 27,
   "metadata": {},
   "outputs": [
    {
     "name": "stdout",
     "output_type": "stream",
     "text": [
      "(4, 'Carlos Santos', 30, 530.1)\n"
     ]
    }
   ],
   "source": [
    "cursor.execute(\"UPDATE clientes SET saldo = 530.10 WHERE id = 4\")\n",
    "conexao.commit()\n",
    "\n",
    "dados = cursor.execute(\"SELECT * FROM clientes WHERE id =4\")\n",
    "\n",
    "for usuario in dados:\n",
    "    print(usuario)"
   ]
  },
  {
   "cell_type": "markdown",
   "metadata": {},
   "source": [
    "b) Remova um cliente pelo seu ID."
   ]
  },
  {
   "cell_type": "code",
   "execution_count": 28,
   "metadata": {},
   "outputs": [
    {
     "name": "stdout",
     "output_type": "stream",
     "text": [
      "(1, 'Ana Silva', 28, 1000.5)\n",
      "(2, 'João Pereira', 35, 1500.75)\n",
      "(3, 'Maria Oliveira', 42, 2000.0)\n",
      "(4, 'Carlos Santos', 30, 530.1)\n",
      "(5, 'Fernanda Costa', 29, 3000.0)\n",
      "(6, 'Lucas Almeida', 31, 3500.5)\n",
      "(7, 'Juliana Ferreira', 27, 4000.0)\n",
      "(8, 'Roberto Lima', 38, 4500.75)\n",
      "(9, 'Mariana Rocha', 33, 5000.0)\n",
      "(10, 'Paulo Souza', 40, 5500.5)\n",
      "(11, 'Tatiane Lima', 26, 6000.0)\n",
      "(12, 'Felipe Martins', 37, 6500.75)\n",
      "(13, 'Beatriz Castro', 34, 7000.0)\n",
      "(14, 'Gustavo Oliveira', 41, 7500.5)\n",
      "(15, 'Jéssica Campos', 32, 8000.0)\n",
      "(16, 'Rafael Silva', 39, 8500.75)\n",
      "(17, 'Camila Costa', 29, 9000.0)\n",
      "(18, 'Pedro Henrique', 36, 9500.5)\n",
      "(19, 'Larissa Gomes', 31, 10000.0)\n"
     ]
    }
   ],
   "source": [
    "cursor.execute(\"DELETE FROM clientes WHERE id = 20\")\n",
    "conexao.commit()\n",
    "\n",
    "dados = cursor.execute(\"SELECT * FROM clientes\")\n",
    "\n",
    "for usuario in dados:\n",
    "    print(usuario)"
   ]
  },
  {
   "cell_type": "markdown",
   "metadata": {},
   "source": [
    "8. Junção de Tabelas\n",
    "\n",
    "Crie uma segunda tabela chamada \"compras\" com os campos: id (chave primária), cliente_id (chave estrangeira referenciando o id\n",
    "da tabela \"clientes\"), produto (texto) e valor (real). Insira algumas compras associadas a clientes existentes na tabela \"clientes\".\n",
    "Escreva uma consulta para exibir o nome do cliente, o produto e o valor de cada compra."
   ]
  },
  {
   "cell_type": "code",
   "execution_count": 29,
   "metadata": {},
   "outputs": [
    {
     "data": {
      "text/plain": [
       "<sqlite3.Cursor at 0x1046aa940>"
      ]
     },
     "execution_count": 29,
     "metadata": {},
     "output_type": "execute_result"
    }
   ],
   "source": [
    "# Criar a tabela compras\n",
    "cursor.execute('''\n",
    "CREATE TABLE IF NOT EXISTS compras (\n",
    "    id INTEGER PRIMARY KEY AUTOINCREMENT,\n",
    "    cliente_id INTEGER,\n",
    "    produto TEXT,\n",
    "    valor REAL,\n",
    "    FOREIGN KEY (cliente_id) REFERENCES clientes (id)\n",
    ")\n",
    "''')"
   ]
  },
  {
   "cell_type": "code",
   "execution_count": 30,
   "metadata": {},
   "outputs": [
    {
     "data": {
      "text/plain": [
       "<sqlite3.Cursor at 0x1046aa940>"
      ]
     },
     "execution_count": 30,
     "metadata": {},
     "output_type": "execute_result"
    }
   ],
   "source": [
    "# Inserir registros na tabela compras\n",
    "cursor.execute(\"INSERT INTO compras (cliente_id, produto, valor) VALUES (1, 'Laptop', 1500.00)\")\n",
    "cursor.execute(\"INSERT INTO compras (cliente_id, produto, valor) VALUES (2, 'Mouse', 50.00)\")\n",
    "cursor.execute(\"INSERT INTO compras (cliente_id, produto, valor) VALUES (3, 'Smartphone', 800.00)\")\n",
    "cursor.execute(\"INSERT INTO compras (cliente_id, produto, valor) VALUES (4, 'Capacete', 70.00)\")\n",
    "cursor.execute(\"INSERT INTO compras (cliente_id, produto, valor) VALUES (5, 'Mesa', 200.00)\")\n",
    "cursor.execute(\"INSERT INTO compras (cliente_id, produto, valor) VALUES (5, 'Cadeira', 120.00)\")\n",
    "cursor.execute(\"INSERT INTO compras (cliente_id, produto, valor) VALUES (8, 'Monitor', 300.00)\")\n",
    "cursor.execute(\"INSERT INTO compras (cliente_id, produto, valor) VALUES (13, 'Teclado', 100.00)\")\n",
    "cursor.execute(\"INSERT INTO compras (cliente_id, produto, valor) VALUES (13, 'Fone de Ouvido', 80.00)\")\n",
    "cursor.execute(\"INSERT INTO compras (cliente_id, produto, valor) VALUES (19, 'Impressora', 250.00)\")\n",
    "\n",
    "conexao.commit()"
   ]
  },
  {
   "cell_type": "code",
   "execution_count": 32,
   "metadata": {},
   "outputs": [
    {
     "name": "stdout",
     "output_type": "stream",
     "text": [
      "('Ana Silva', 'Laptop', 1500.0)\n",
      "('João Pereira', 'Mouse', 50.0)\n",
      "('Maria Oliveira', 'Smartphone', 800.0)\n",
      "('Carlos Santos', 'Capacete', 70.0)\n",
      "('Fernanda Costa', 'Mesa', 200.0)\n",
      "('Fernanda Costa', 'Cadeira', 120.0)\n",
      "('Roberto Lima', 'Monitor', 300.0)\n",
      "('Beatriz Castro', 'Teclado', 100.0)\n",
      "('Beatriz Castro', 'Fone de Ouvido', 80.0)\n",
      "('Larissa Gomes', 'Impressora', 250.0)\n"
     ]
    }
   ],
   "source": [
    "# Escreva uma consulta para exibir o nome do cliente, o produto e o valor de cada compra.\n",
    "\n",
    "dados = cursor.execute(\"SELECT clientes.nome, compras.produto, compras.valor FROM clientes INNER JOIN compras ON clientes.id = compras.cliente_id\")\n",
    "\n",
    "for usuario in dados:\n",
    "    print(usuario)"
   ]
  },
  {
   "cell_type": "code",
   "execution_count": null,
   "metadata": {},
   "outputs": [],
   "source": [
    "# Fechando conexão \n",
    "conexao.close()"
   ]
  }
 ],
 "metadata": {
  "kernelspec": {
   "display_name": "Python 3",
   "language": "python",
   "name": "python3"
  },
  "language_info": {
   "codemirror_mode": {
    "name": "ipython",
    "version": 3
   },
   "file_extension": ".py",
   "mimetype": "text/x-python",
   "name": "python",
   "nbconvert_exporter": "python",
   "pygments_lexer": "ipython3",
   "version": "3.11.5"
  }
 },
 "nbformat": 4,
 "nbformat_minor": 2
}
