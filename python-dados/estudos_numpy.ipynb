{
 "cells": [
  {
   "cell_type": "code",
   "execution_count": 12,
   "metadata": {},
   "outputs": [],
   "source": [
    "import numpy as np\n"
   ]
  },
  {
   "cell_type": "markdown",
   "metadata": {},
   "source": [
    "## Criando um objeto array do tipo numpy"
   ]
  },
  {
   "cell_type": "code",
   "execution_count": 29,
   "metadata": {},
   "outputs": [],
   "source": [
    "lista = [4, 8, 2, 12, 5, 8, 0]\n",
    "\n",
    "arraylista = np.array(lista)"
   ]
  },
  {
   "cell_type": "code",
   "execution_count": 30,
   "metadata": {},
   "outputs": [
    {
     "data": {
      "text/plain": [
       "array([ 4,  8,  2, 12,  5,  8,  0])"
      ]
     },
     "execution_count": 30,
     "metadata": {},
     "output_type": "execute_result"
    }
   ],
   "source": [
    "arraylista"
   ]
  },
  {
   "cell_type": "markdown",
   "metadata": {},
   "source": [
    "## Formas de se criar um array:"
   ]
  },
  {
   "cell_type": "code",
   "execution_count": 15,
   "metadata": {},
   "outputs": [
    {
     "data": {
      "text/plain": [
       "array([[0., 0., 0.],\n",
       "       [0., 0., 0.]])"
      ]
     },
     "execution_count": 15,
     "metadata": {},
     "output_type": "execute_result"
    }
   ],
   "source": [
    "# 1. np.zeros((i,j)) onde i são linhas e j colunas preenchidas com zero\n",
    "\n",
    "np.zeros((2,3))"
   ]
  },
  {
   "cell_type": "code",
   "execution_count": 18,
   "metadata": {},
   "outputs": [
    {
     "data": {
      "text/plain": [
       "array([ 4,  6,  8, 10, 12])"
      ]
     },
     "execution_count": 18,
     "metadata": {},
     "output_type": "execute_result"
    }
   ],
   "source": [
    "# 2. np.arange(x), onde será criado um array com valores de 0 a x-1\n",
    "\n",
    "np.arange(13)\n",
    "np.arange(4,13,2) #começa no 4, vai até 13-1, no passo de 2 em 2"
   ]
  },
  {
   "cell_type": "code",
   "execution_count": 19,
   "metadata": {},
   "outputs": [
    {
     "data": {
      "text/plain": [
       "array([0.03644768, 0.52642935, 0.44716611, 0.47651405])"
      ]
     },
     "execution_count": 19,
     "metadata": {},
     "output_type": "execute_result"
    }
   ],
   "source": [
    "# 3. np.random.random((i,j)), gera números de ponto flutuante entre 0.0 e 1.0\n",
    "\n",
    "np.random.random(4)"
   ]
  },
  {
   "cell_type": "markdown",
   "metadata": {},
   "source": [
    "## Exercícios!"
   ]
  },
  {
   "cell_type": "code",
   "execution_count": 21,
   "metadata": {},
   "outputs": [
    {
     "data": {
      "text/plain": [
       "array([[0.94992999, 0.15816372, 0.98733631],\n",
       "       [0.0841886 , 0.47970539, 0.02207724],\n",
       "       [0.59763943, 0.36898487, 0.97626191],\n",
       "       [0.50405931, 0.29826746, 0.42621193]])"
      ]
     },
     "execution_count": 21,
     "metadata": {},
     "output_type": "execute_result"
    }
   ],
   "source": [
    "# 1. Crie um array com 4 linhas e 3 colunas com valores aleatórios.\n",
    "\n",
    "np.random.random((4,3))"
   ]
  },
  {
   "cell_type": "code",
   "execution_count": 26,
   "metadata": {},
   "outputs": [
    {
     "data": {
      "text/plain": [
       "array([[21, 15, 23,  3, 23],\n",
       "       [ 4,  2, 21,  1,  3],\n",
       "       [ 0, 13,  3,  3,  4]])"
      ]
     },
     "execution_count": 26,
     "metadata": {},
     "output_type": "execute_result"
    }
   ],
   "source": [
    "# 2. Crie um array com valores inteiros e aleatórios contendo 3 linhas e 5 colunas.\n",
    "np.random.randint(30,size=(3,5))"
   ]
  },
  {
   "cell_type": "code",
   "execution_count": 27,
   "metadata": {},
   "outputs": [
    {
     "data": {
      "text/plain": [
       "array([[0., 0., 0., 0., 0.],\n",
       "       [0., 0., 0., 0., 0.],\n",
       "       [0., 0., 0., 0., 0.],\n",
       "       [0., 0., 0., 0., 0.],\n",
       "       [0., 0., 0., 0., 0.],\n",
       "       [0., 0., 0., 0., 0.],\n",
       "       [0., 0., 0., 0., 0.],\n",
       "       [0., 0., 0., 0., 0.],\n",
       "       [0., 0., 0., 0., 0.],\n",
       "       [0., 0., 0., 0., 0.]])"
      ]
     },
     "execution_count": 27,
     "metadata": {},
     "output_type": "execute_result"
    }
   ],
   "source": [
    "# 3. Crie um array com 5 colunas e 10 linhas inicializados com zeros.\n",
    "np.zeros((10,5))"
   ]
  },
  {
   "cell_type": "markdown",
   "metadata": {},
   "source": [
    "## Arrays com 3 dimensões"
   ]
  },
  {
   "cell_type": "code",
   "execution_count": 32,
   "metadata": {},
   "outputs": [
    {
     "data": {
      "text/plain": [
       "array([[[1, 2],\n",
       "        [3, 4]],\n",
       "\n",
       "       [[5, 6],\n",
       "        [7, 8]],\n",
       "\n",
       "       [[9, 2],\n",
       "        [5, 8]]])"
      ]
     },
     "execution_count": 32,
     "metadata": {},
     "output_type": "execute_result"
    }
   ],
   "source": [
    "# Criando arrays com 2 dimensões\n",
    "# Primeira dimensão é a linha e Segunda dimensão é a coluna\n",
    "arr1_2d = [[1,2],[3,4]]\n",
    "arr2_2d = [[5,6],[7,8]]\n",
    "arr3_2d = [[9,2],[5,8]]\n",
    "\n",
    "# Criando array 3D\n",
    "array_3d = np.array([arr1_2d, arr2_2d, arr3_2d])\n",
    "array_3d"
   ]
  },
  {
   "cell_type": "markdown",
   "metadata": {},
   "source": [
    "## Dimensões do array (atributos e métodos)"
   ]
  },
  {
   "cell_type": "code",
   "execution_count": 33,
   "metadata": {},
   "outputs": [],
   "source": [
    "# Atributos: propriedades, caracteristícas do objetos\n",
    "# .shape: descreve a forma do array\n",
    "\n",
    "# Métodos: Executam uma ação\n",
    "# .flatten(): achata o array\n",
    "# .reshape(): transforma as dimensões do array"
   ]
  },
  {
   "cell_type": "code",
   "execution_count": 41,
   "metadata": {},
   "outputs": [
    {
     "data": {
      "text/plain": [
       "array([[12, 44, 26, 17, 19, 39],\n",
       "       [18,  3, 20,  5, 21,  6]])"
      ]
     },
     "execution_count": 41,
     "metadata": {},
     "output_type": "execute_result"
    }
   ],
   "source": [
    "# Exemplo\n",
    "\n",
    "array_am = np.random.randint(50, size = (2,6))\n",
    "array_am"
   ]
  },
  {
   "cell_type": "code",
   "execution_count": 42,
   "metadata": {},
   "outputs": [
    {
     "data": {
      "text/plain": [
       "(2, 6)"
      ]
     },
     "execution_count": 42,
     "metadata": {},
     "output_type": "execute_result"
    }
   ],
   "source": [
    "# Mostrando a dimensão do array\n",
    "array_am.shape"
   ]
  },
  {
   "cell_type": "code",
   "execution_count": 43,
   "metadata": {},
   "outputs": [
    {
     "data": {
      "text/plain": [
       "array([12, 44, 26, 17, 19, 39, 18,  3, 20,  5, 21,  6])"
      ]
     },
     "execution_count": 43,
     "metadata": {},
     "output_type": "execute_result"
    }
   ],
   "source": [
    "# Achatando o array para uma única dimensão\n",
    "array_am.flatten()"
   ]
  },
  {
   "cell_type": "code",
   "execution_count": 45,
   "metadata": {},
   "outputs": [
    {
     "data": {
      "text/plain": [
       "array([[12, 44, 26],\n",
       "       [17, 19, 39],\n",
       "       [18,  3, 20],\n",
       "       [ 5, 21,  6]])"
      ]
     },
     "execution_count": 45,
     "metadata": {},
     "output_type": "execute_result"
    }
   ],
   "source": [
    "# Tranformando a dimensão do array\n",
    "# Obs: para transformar, a nova dimensão deve conter o mesmo número de elementos\n",
    "array_am.reshape(4,3)"
   ]
  },
  {
   "cell_type": "markdown",
   "metadata": {},
   "source": [
    "## Exercícios"
   ]
  },
  {
   "cell_type": "code",
   "execution_count": 54,
   "metadata": {},
   "outputs": [
    {
     "data": {
      "text/plain": [
       "array([96, 54, 37, 35, 59, 62, 17, 96, 87, 74, 35,  4, 89, 29, 57, 59, 35,\n",
       "       52, 51,  9,  9, 44, 97,  1, 35, 43, 60,  7, 17, 22, 59, 97, 73, 83,\n",
       "       58])"
      ]
     },
     "execution_count": 54,
     "metadata": {},
     "output_type": "execute_result"
    }
   ],
   "source": [
    "# 1. Reduza o array (5,7) a apenas uma dimensão\n",
    "\n",
    "array57 = np.random.randint(100, size=(5,7))\n",
    "array57\n",
    "\n",
    "array57.flatten()"
   ]
  },
  {
   "cell_type": "code",
   "execution_count": 55,
   "metadata": {},
   "outputs": [
    {
     "data": {
      "text/plain": [
       "array([[[11,  3, 15],\n",
       "        [ 2, 10,  7],\n",
       "        [ 9, 22, 13],\n",
       "        [ 6, 24, 27]],\n",
       "\n",
       "       [[19, 23, 23],\n",
       "        [28, 12, 29],\n",
       "        [22, 11, 18],\n",
       "        [30, 26, 10]],\n",
       "\n",
       "       [[25, 29, 17],\n",
       "        [ 9, 17, 15],\n",
       "        [ 1, 20,  9],\n",
       "        [ 3, 15, 27]],\n",
       "\n",
       "       [[17, 14, 25],\n",
       "        [ 6,  6, 20],\n",
       "        [ 3,  2,  5],\n",
       "        [ 8,  4,  8]],\n",
       "\n",
       "       [[11, 23, 19],\n",
       "        [ 4, 29, 19],\n",
       "        [12,  1,  3],\n",
       "        [25, 10, 17]],\n",
       "\n",
       "       [[ 4, 26, 20],\n",
       "        [22, 23, 16],\n",
       "        [ 5, 10,  4],\n",
       "        [29, 15,  2]],\n",
       "\n",
       "       [[11,  9, 29],\n",
       "        [15, 26, 10],\n",
       "        [26,  2, 17],\n",
       "        [22, 11,  8]],\n",
       "\n",
       "       [[25, 20,  4],\n",
       "        [25,  3, 25],\n",
       "        [ 9, 24, 13],\n",
       "        [ 4,  9, 18]],\n",
       "\n",
       "       [[29,  2,  1],\n",
       "        [ 3,  4, 18],\n",
       "        [27, 28, 24],\n",
       "        [14,  2,  7]],\n",
       "\n",
       "       [[30, 14, 10],\n",
       "        [21,  8, 26],\n",
       "        [23, 29, 20],\n",
       "        [18, 17, 16]]])"
      ]
     },
     "execution_count": 55,
     "metadata": {},
     "output_type": "execute_result"
    }
   ],
   "source": [
    "# 2. Considerando que você é uma organizadora de um jogo de bingo. Crie um array que irá representar a cartilha desses jogos de bingo. \n",
    "# Os números das suas cartelas variam entre 1 e 30, e você terá 10 participantes. Cada cartela terá 12 números (4,3).\n",
    "# Crie um array que represente esse jogo.\n",
    "\n",
    "bingo = np.random.randint(1,31, size = (10, 4,3))\n",
    "bingo"
   ]
  },
  {
   "cell_type": "code",
   "execution_count": 57,
   "metadata": {},
   "outputs": [
    {
     "data": {
      "text/plain": [
       "array([[[11,  3, 15,  2, 10,  7],\n",
       "        [ 9, 22, 13,  6, 24, 27],\n",
       "        [19, 23, 23, 28, 12, 29],\n",
       "        [22, 11, 18, 30, 26, 10]],\n",
       "\n",
       "       [[25, 29, 17,  9, 17, 15],\n",
       "        [ 1, 20,  9,  3, 15, 27],\n",
       "        [17, 14, 25,  6,  6, 20],\n",
       "        [ 3,  2,  5,  8,  4,  8]],\n",
       "\n",
       "       [[11, 23, 19,  4, 29, 19],\n",
       "        [12,  1,  3, 25, 10, 17],\n",
       "        [ 4, 26, 20, 22, 23, 16],\n",
       "        [ 5, 10,  4, 29, 15,  2]],\n",
       "\n",
       "       [[11,  9, 29, 15, 26, 10],\n",
       "        [26,  2, 17, 22, 11,  8],\n",
       "        [25, 20,  4, 25,  3, 25],\n",
       "        [ 9, 24, 13,  4,  9, 18]],\n",
       "\n",
       "       [[29,  2,  1,  3,  4, 18],\n",
       "        [27, 28, 24, 14,  2,  7],\n",
       "        [30, 14, 10, 21,  8, 26],\n",
       "        [23, 29, 20, 18, 17, 16]]])"
      ]
     },
     "execution_count": 57,
     "metadata": {},
     "output_type": "execute_result"
    }
   ],
   "source": [
    "# 3. Faça o reshape das suas cartelas para que haja 5 cartelas de 4 linhas e 6 colunas. \n",
    "bingo_transformado = bingo.reshape((5,4,6))\n",
    "bingo_transformado"
   ]
  },
  {
   "cell_type": "markdown",
   "metadata": {},
   "source": [
    "## Tipo de dados em NumPy"
   ]
  },
  {
   "cell_type": "code",
   "execution_count": null,
   "metadata": {},
   "outputs": [],
   "source": [
    "# np.int64: valores inteiros de até 64 bits\n",
    "# np.int32: valores inteiros de até 3 bits\n",
    "# np.float64: valores de ponto flutuante de até 64 bits\n",
    "# np.int32: valores de ponto flutuante de até 32 bits\n",
    "\n",
    "# Podemos verificar o tipo do array pelo atributo .dtype"
   ]
  },
  {
   "cell_type": "code",
   "execution_count": 58,
   "metadata": {},
   "outputs": [
    {
     "data": {
      "text/plain": [
       "dtype('float64')"
      ]
     },
     "execution_count": 58,
     "metadata": {},
     "output_type": "execute_result"
    }
   ],
   "source": [
    "# Exemplos\n",
    "\n",
    "np.array([2.14, 6.25, 160.87, 8.4]).dtype"
   ]
  },
  {
   "cell_type": "code",
   "execution_count": 59,
   "metadata": {},
   "outputs": [
    {
     "data": {
      "text/plain": [
       "dtype('int64')"
      ]
     },
     "execution_count": 59,
     "metadata": {},
     "output_type": "execute_result"
    }
   ],
   "source": [
    "np.array([2, 6, 160, 8]).dtype"
   ]
  },
  {
   "cell_type": "code",
   "execution_count": 61,
   "metadata": {},
   "outputs": [
    {
     "data": {
      "text/plain": [
       "dtype('<U8')"
      ]
     },
     "execution_count": 61,
     "metadata": {},
     "output_type": "execute_result"
    }
   ],
   "source": [
    "# No caso de string, ele apresentará o tamanho da maior string\n",
    "np.array([\"Ola\", \"Codigo\", \"Mulheres\", \"Python\"]).dtype"
   ]
  },
  {
   "cell_type": "markdown",
   "metadata": {},
   "source": [
    "## Conversão dos Dados"
   ]
  },
  {
   "cell_type": "code",
   "execution_count": 63,
   "metadata": {},
   "outputs": [
    {
     "data": {
      "text/plain": [
       "dtype('float32')"
      ]
     },
     "execution_count": 63,
     "metadata": {},
     "output_type": "execute_result"
    }
   ],
   "source": [
    "# dtype como argumento\n",
    "\n",
    "arr_float32 = np.array([2.14, 6.25, 160.87], dtype = np.float32)\n",
    "arr_float32.dtype"
   ]
  },
  {
   "cell_type": "code",
   "execution_count": 67,
   "metadata": {},
   "outputs": [
    {
     "name": "stderr",
     "output_type": "stream",
     "text": [
      "/var/folders/jz/925s2xqx5rg2bqxv7_55d0nc0000gn/T/ipykernel_2631/2384465621.py:2: DeprecationWarning: `np.bool8` is a deprecated alias for `np.bool_`.  (Deprecated NumPy 1.24)\n",
      "  arr_vf = np.array([[True, False], [False, False]], dtype = np.bool8)\n"
     ]
    },
    {
     "data": {
      "text/plain": [
       "dtype('int32')"
      ]
     },
     "execution_count": 67,
     "metadata": {},
     "output_type": "execute_result"
    }
   ],
   "source": [
    "# Conversão com astype\n",
    "arr_vf = np.array([[True, False], [False, False]], dtype = np.bool8)\n",
    "arr_vf = arr_vf.astype(np.int32)\n",
    "arr_vf.dtype"
   ]
  },
  {
   "cell_type": "code",
   "execution_count": 68,
   "metadata": {},
   "outputs": [
    {
     "data": {
      "text/plain": [
       "dtype('float64')"
      ]
     },
     "execution_count": 68,
     "metadata": {},
     "output_type": "execute_result"
    }
   ],
   "source": [
    "# Coerção dos dados: uma conversão automática levando em consideração o tipo dominante do array\n",
    "\n",
    "np.array([3, 5, 6.7]).dtype"
   ]
  },
  {
   "cell_type": "code",
   "execution_count": 69,
   "metadata": {},
   "outputs": [
    {
     "data": {
      "text/plain": [
       "dtype('<U32')"
      ]
     },
     "execution_count": 69,
     "metadata": {},
     "output_type": "execute_result"
    }
   ],
   "source": [
    "# Nesse caso, o tipo dominante é String\n",
    "np.array([\"pedra\", False, 2, 6.57]).dtype"
   ]
  },
  {
   "cell_type": "markdown",
   "metadata": {},
   "source": [
    "## Index em array"
   ]
  },
  {
   "cell_type": "code",
   "execution_count": 70,
   "metadata": {},
   "outputs": [
    {
     "data": {
      "text/plain": [
       "4"
      ]
     },
     "execution_count": 70,
     "metadata": {},
     "output_type": "execute_result"
    }
   ],
   "source": [
    "# Index sempre inicia do zero\n",
    "arr_index = np.array([2,4,8,-1])\n",
    "arr_index[1]"
   ]
  },
  {
   "cell_type": "code",
   "execution_count": 77,
   "metadata": {},
   "outputs": [
    {
     "data": {
      "text/plain": [
       "-1"
      ]
     },
     "execution_count": 77,
     "metadata": {},
     "output_type": "execute_result"
    }
   ],
   "source": [
    "# Index em array com 2 dimensões\n",
    "arr_index2d = np.array([\n",
    "                [2,3,5,4],\n",
    "                [9,10,-1,0],\n",
    "                [3,12,-4,8],\n",
    "                [0, 6, 7, -2]])\n",
    "arr_index2d[1,2]"
   ]
  },
  {
   "cell_type": "code",
   "execution_count": 78,
   "metadata": {},
   "outputs": [
    {
     "data": {
      "text/plain": [
       "array([2, 3, 5, 4])"
      ]
     },
     "execution_count": 78,
     "metadata": {},
     "output_type": "execute_result"
    }
   ],
   "source": [
    "# Seleciona uma linha do array de 2 dimensões\n",
    "arr_index2d[0]"
   ]
  },
  {
   "cell_type": "code",
   "execution_count": 79,
   "metadata": {},
   "outputs": [
    {
     "data": {
      "text/plain": [
       "array([ 3, 10, 12,  6])"
      ]
     },
     "execution_count": 79,
     "metadata": {},
     "output_type": "execute_result"
    }
   ],
   "source": [
    "# Seleciona uma coluna do array de 2 dimensões\n",
    "arr_index2d[:,1]"
   ]
  },
  {
   "cell_type": "code",
   "execution_count": 80,
   "metadata": {},
   "outputs": [
    {
     "data": {
      "text/plain": [
       "array([[ 9, 10],\n",
       "       [ 3, 12]])"
      ]
     },
     "execution_count": 80,
     "metadata": {},
     "output_type": "execute_result"
    }
   ],
   "source": [
    "# A partir dos índices, conseguimos realizar fatiamento (slicing) \n",
    "\n",
    "#No caso abaixo, foi fatiada da linha 1 a 2 e coluna 0 a 1\n",
    "arr_index2d[1:3, 0:2]"
   ]
  },
  {
   "cell_type": "code",
   "execution_count": 81,
   "metadata": {},
   "outputs": [
    {
     "data": {
      "text/plain": [
       "array([[ 2,  3,  4,  5],\n",
       "       [-1,  0,  9, 10],\n",
       "       [-4,  3,  8, 12],\n",
       "       [-2,  0,  6,  7]])"
      ]
     },
     "execution_count": 81,
     "metadata": {},
     "output_type": "execute_result"
    }
   ],
   "source": [
    "# Ordenando o array\n",
    "np.sort(arr_index2d)"
   ]
  },
  {
   "cell_type": "code",
   "execution_count": 82,
   "metadata": {},
   "outputs": [
    {
     "data": {
      "text/plain": [
       "array([[ 0,  3, -4, -2],\n",
       "       [ 2,  6, -1,  0],\n",
       "       [ 3, 10,  5,  4],\n",
       "       [ 9, 12,  7,  8]])"
      ]
     },
     "execution_count": 82,
     "metadata": {},
     "output_type": "execute_result"
    }
   ],
   "source": [
    "# Podemos ordenar o array por linha (padrão) ou por coluna. \n",
    "# O eixo 1 representa a ordenção por linha e eixo 0 a ordenação por coluna.\n",
    "\n",
    "np.sort(arr_index2d, axis = 0)"
   ]
  },
  {
   "cell_type": "markdown",
   "metadata": {},
   "source": [
    "## Exercícios"
   ]
  },
  {
   "cell_type": "markdown",
   "metadata": {},
   "source": [
    "### Explorando Ecossistemas:\n",
    "\n",
    "Como bióloga marinha, me encontrei em uma expedição nas profundezas do Oceano Pacífico, onde estávamos estudando a biodiversidade e a saúde dos recifes de coral. O catálogo abaixo demonstra dados das espécies encontradas. considere a seguinte ordem de colunas:\n",
    "\n",
    "ID da espécie, quantidade de representantes encontrados, profundeza, tamanho médio da espécie\n",
    "\n",
    "* Selecione a segunda coluna com a quantidade de espécies encontradas e adicione em um array como 'qtd_especies'\n",
    "* De qtd_especies, selecione apenas as primeiras quantidades e print\n",
    "* Printe as 5 últimas quantidades de espécies\n",
    "* Crie um array que contenha apenas os tamanhos das especies e ordene por ordem crescente"
   ]
  },
  {
   "cell_type": "code",
   "execution_count": 159,
   "metadata": {},
   "outputs": [],
   "source": [
    "especies = np.array([[747, 89,  33, 5],\n",
    "                     [623, 123, 32, 13],\n",
    "                     [501, 22,  49, 2],\n",
    "                     [116, 101, 42, 10],\n",
    "                     [297, 56,  69, 22],\n",
    "                     [613, 64,  27, 7],\n",
    "                     [295, 84,  29, 14],\n",
    "                     [692, 105, 72, 16],\n",
    "                     [229, 103, 35, 5],\n",
    "                     [374, 124, 70, 1]])"
   ]
  },
  {
   "cell_type": "code",
   "execution_count": 160,
   "metadata": {},
   "outputs": [
    {
     "data": {
      "text/plain": [
       "array([ 89, 123,  22, 101,  56,  64,  84, 105, 103, 124])"
      ]
     },
     "execution_count": 160,
     "metadata": {},
     "output_type": "execute_result"
    }
   ],
   "source": [
    "# Selecione a segunda coluna com a quantidade de espécies \n",
    "# encontradas e adicione em um array como 'qtd_especies'\n",
    "\n",
    "qtd_especies = especies[:, 1]\n",
    "qtd_especies"
   ]
  },
  {
   "cell_type": "code",
   "execution_count": 161,
   "metadata": {},
   "outputs": [
    {
     "data": {
      "text/plain": [
       "array([ 89, 123,  22])"
      ]
     },
     "execution_count": 161,
     "metadata": {},
     "output_type": "execute_result"
    }
   ],
   "source": [
    "# De qtd_especies, selecione apenas as primeiras quantidades e printe\n",
    "qtd_especies[0:3]"
   ]
  },
  {
   "cell_type": "code",
   "execution_count": 162,
   "metadata": {},
   "outputs": [
    {
     "data": {
      "text/plain": [
       "array([ 64,  84, 105, 103, 124])"
      ]
     },
     "execution_count": 162,
     "metadata": {},
     "output_type": "execute_result"
    }
   ],
   "source": [
    "# Printe as 5 últimas quantidades de espécies\n",
    "qtd_especies[-5:]"
   ]
  },
  {
   "cell_type": "code",
   "execution_count": 163,
   "metadata": {},
   "outputs": [
    {
     "data": {
      "text/plain": [
       "array([ 1,  2,  5,  5,  7, 10, 13, 14, 16, 22])"
      ]
     },
     "execution_count": 163,
     "metadata": {},
     "output_type": "execute_result"
    }
   ],
   "source": [
    "# Crie um array que contenha apenas os tamanhos das especies e \n",
    "# ordene por ordem crescente\n",
    "\n",
    "tamanho_especies = np.sort(especies[:, 3])\n",
    "tamanho_especies"
   ]
  },
  {
   "cell_type": "markdown",
   "metadata": {},
   "source": [
    "## Filtragem de arrays"
   ]
  },
  {
   "cell_type": "code",
   "execution_count": 93,
   "metadata": {},
   "outputs": [],
   "source": [
    "# Declarando o array\n",
    "\n",
    "pessoas_id_idade = np.array([[1,22], [2,11], [3, 27], [4, 26]])"
   ]
  },
  {
   "cell_type": "code",
   "execution_count": 98,
   "metadata": {},
   "outputs": [
    {
     "data": {
      "text/plain": [
       "array([[ 1, 22],\n",
       "       [ 4, 26]])"
      ]
     },
     "execution_count": 98,
     "metadata": {},
     "output_type": "execute_result"
    }
   ],
   "source": [
    "# Filtrando por máscara (mask) e indexação sofisticada (fancy indexing)\n",
    "\n",
    "mask = pessoas_id_idade[:, 1] % 2 == 0\n",
    "mask\n",
    "\n",
    "pessoas_id_idade[mask]"
   ]
  },
  {
   "cell_type": "code",
   "execution_count": 100,
   "metadata": {},
   "outputs": [
    {
     "data": {
      "text/plain": [
       "array([[ 1, 22],\n",
       "       [ 4, 26]])"
      ]
     },
     "execution_count": 100,
     "metadata": {},
     "output_type": "execute_result"
    }
   ],
   "source": [
    "# Filtrando por np.where()\n",
    "\n",
    "indices = np.where(pessoas_id_idade[:, 1] % 2 == 0)\n",
    "indices\n",
    "\n",
    "pessoas_id_idade[indices]"
   ]
  },
  {
   "cell_type": "code",
   "execution_count": 102,
   "metadata": {},
   "outputs": [],
   "source": [
    "# O np.where() pode ser interpretado como um if\n",
    "# np.where(condicao, caso seja verdadeiro, caso seja falso)\n",
    "\n",
    "cartela_bingo = np.array([\n",
    "        [11,  3, 15],\n",
    "        [ 2, 10,  7],\n",
    "        [ 9, 22, 13],\n",
    "        [ 6, 24, 27]])"
   ]
  },
  {
   "cell_type": "code",
   "execution_count": 104,
   "metadata": {},
   "outputs": [
    {
     "data": {
      "text/plain": [
       "array([['11', 'div3', 'div3'],\n",
       "       ['2', '10', '7'],\n",
       "       ['div3', '22', '13'],\n",
       "       ['div3', 'div3', 'div3']], dtype='<U21')"
      ]
     },
     "execution_count": 104,
     "metadata": {},
     "output_type": "execute_result"
    }
   ],
   "source": [
    "# Ache os valores que são divisíveis por 3 na cartela e substitua por div3\n",
    "\n",
    "np.where(cartela_bingo % 3 == 0, \"div3\", cartela_bingo)"
   ]
  },
  {
   "cell_type": "markdown",
   "metadata": {},
   "source": [
    "## Exercícios"
   ]
  },
  {
   "cell_type": "markdown",
   "metadata": {},
   "source": [
    "### Ainda sobre as espécies marítimas.\n",
    "\n",
    "* Usando um index booleano, crie um array que contém os da maior espécie encontrada (considerando o seu tamanho). Esse valor corresponde ao valor 22.\n",
    "* Usando o fancy indexing, faça um array que contém apenas dados da espécie com ID 297\n",
    "* Usando np.where(), faça um array com a linha com dados correspondentes a espécie com 105 representantes encontrados.\n",
    "* Considere a profundeza em que a espécies foi encontrada e substitua valores maiores que 6o com \"Profundo\""
   ]
  },
  {
   "cell_type": "code",
   "execution_count": 108,
   "metadata": {},
   "outputs": [
    {
     "data": {
      "text/plain": [
       "array([[297,  56,  69,  22]])"
      ]
     },
     "execution_count": 108,
     "metadata": {},
     "output_type": "execute_result"
    }
   ],
   "source": [
    "# Usando um index booleano, crie um array que contém os da maior espécie encontrada\n",
    "# (considerando o seu tamanho). Esse valor corresponde ao valor 22.\n",
    "\n",
    "\n",
    "maior_especie = especies[especies[:, 3] == 22]\n",
    "maior_especie"
   ]
  },
  {
   "cell_type": "code",
   "execution_count": 109,
   "metadata": {},
   "outputs": [
    {
     "data": {
      "text/plain": [
       "array([[297,  56,  69,  22]])"
      ]
     },
     "execution_count": 109,
     "metadata": {},
     "output_type": "execute_result"
    }
   ],
   "source": [
    "# Usando o fancy indexing, faça um array que contém apenas \n",
    "# dados da espécie com ID 297\n",
    "\n",
    "mask_id297 = especies[:, 0] == 297\n",
    "\n",
    "especies[mask_id297]"
   ]
  },
  {
   "cell_type": "code",
   "execution_count": 112,
   "metadata": {},
   "outputs": [
    {
     "data": {
      "text/plain": [
       "array([[692, 105,  72,  16]])"
      ]
     },
     "execution_count": 112,
     "metadata": {},
     "output_type": "execute_result"
    }
   ],
   "source": [
    "# Usando np.where(), faça um array com a linha com dados correspondentes \n",
    "# a espécie com 105 representantes encontrados.\n",
    "\n",
    "indices_105 = np.where(especies[:, 1] == 105)\n",
    "\n",
    "especies[indices_105]"
   ]
  },
  {
   "cell_type": "code",
   "execution_count": 116,
   "metadata": {},
   "outputs": [
    {
     "data": {
      "text/plain": [
       "array(['33', '32', '49', '42', 'Profundo', '27', '29', 'Profundo', '35',\n",
       "       'Profundo'], dtype='<U21')"
      ]
     },
     "execution_count": 116,
     "metadata": {},
     "output_type": "execute_result"
    }
   ],
   "source": [
    "# Considere a profundeza em que a espécies foi encontrada e substitua valores\n",
    "#  maiores que 60 com \"Profundo\"\n",
    "\n",
    "maior_60 = np.where(especies[:, 2] > 60, \"Profundo\", especies[: , 2])\n",
    "\n",
    "maior_60"
   ]
  },
  {
   "cell_type": "markdown",
   "metadata": {},
   "source": [
    "## Concatenar arrays"
   ]
  },
  {
   "cell_type": "code",
   "execution_count": 120,
   "metadata": {},
   "outputs": [],
   "source": [
    "# Arrays para concatenação\n",
    "\n",
    "arr_concatenar1 = np.random.randint(10, size = (3,2))\n",
    "arr_concatenar2 = np.array([[\"Uvas\", \"Morangos\"]])\n",
    "arr_concatenar3 = np.array([\n",
    "                    [\"Abacaxis\"],\n",
    "                    [\"Maçãs\"],\n",
    "                    [\"Bananas\"]])"
   ]
  },
  {
   "cell_type": "code",
   "execution_count": 119,
   "metadata": {},
   "outputs": [
    {
     "data": {
      "text/plain": [
       "array([['8', '2'],\n",
       "       ['3', '8'],\n",
       "       ['1', '2'],\n",
       "       ['Uvas', 'Morangos']], dtype='<U21')"
      ]
     },
     "execution_count": 119,
     "metadata": {},
     "output_type": "execute_result"
    }
   ],
   "source": [
    "# Concatenando linhas\n",
    "np.concatenate((arr_concatenar1, arr_concatenar2))"
   ]
  },
  {
   "cell_type": "code",
   "execution_count": 122,
   "metadata": {},
   "outputs": [
    {
     "data": {
      "text/plain": [
       "array([['6', '3', 'Abacaxis'],\n",
       "       ['1', '7', 'Maçãs'],\n",
       "       ['2', '3', 'Bananas']], dtype='<U21')"
      ]
     },
     "execution_count": 122,
     "metadata": {},
     "output_type": "execute_result"
    }
   ],
   "source": [
    "# Concatenando colunas\n",
    "np.concatenate((arr_concatenar1, arr_concatenar3), axis = 1)"
   ]
  },
  {
   "cell_type": "markdown",
   "metadata": {},
   "source": [
    "## Deletando valores dos arrays"
   ]
  },
  {
   "cell_type": "code",
   "execution_count": 123,
   "metadata": {},
   "outputs": [],
   "source": [
    "# Criação do array\n",
    "\n",
    "sala_espera = np.array([\n",
    "                ['5', '30', '1', 'Alice'],\n",
    "                ['6', '29', '1', 'Bob'],\n",
    "                ['7', '35', '3', 'Cristina'],\n",
    "                ['8', '34', '3', 'Luiz']])"
   ]
  },
  {
   "cell_type": "code",
   "execution_count": 124,
   "metadata": {},
   "outputs": [
    {
     "data": {
      "text/plain": [
       "array([['5', '30', '1', 'Alice'],\n",
       "       ['7', '35', '3', 'Cristina'],\n",
       "       ['8', '34', '3', 'Luiz']], dtype='<U8')"
      ]
     },
     "execution_count": 124,
     "metadata": {},
     "output_type": "execute_result"
    }
   ],
   "source": [
    "# Deletando linhas\n",
    "np.delete(sala_espera, 1, axis = 0)"
   ]
  },
  {
   "cell_type": "code",
   "execution_count": 125,
   "metadata": {},
   "outputs": [
    {
     "data": {
      "text/plain": [
       "array([['5', '1', 'Alice'],\n",
       "       ['6', '1', 'Bob'],\n",
       "       ['7', '3', 'Cristina'],\n",
       "       ['8', '3', 'Luiz']], dtype='<U8')"
      ]
     },
     "execution_count": 125,
     "metadata": {},
     "output_type": "execute_result"
    }
   ],
   "source": [
    "# Deletando colunas\n",
    "np.delete(sala_espera, 1, axis = 1)"
   ]
  },
  {
   "cell_type": "markdown",
   "metadata": {},
   "source": [
    "## Fazendo cálculos com arrays"
   ]
  },
  {
   "cell_type": "code",
   "execution_count": 126,
   "metadata": {},
   "outputs": [],
   "source": [
    "# Criação do array onde as linhas representam anos e colunas clientes\n",
    "\n",
    "acidentes = np.array([\n",
    "                [1, 3, 2],\n",
    "                [0, 1, 0],\n",
    "                [2, 1, 4],\n",
    "                [0, 0, 0],\n",
    "                [1, 1, 0]])"
   ]
  },
  {
   "cell_type": "code",
   "execution_count": 127,
   "metadata": {},
   "outputs": [
    {
     "data": {
      "text/plain": [
       "16"
      ]
     },
     "execution_count": 127,
     "metadata": {},
     "output_type": "execute_result"
    }
   ],
   "source": [
    "# Calcular a soma dos acidentes em todo o período\n",
    "\n",
    "acidentes.sum()"
   ]
  },
  {
   "cell_type": "code",
   "execution_count": 128,
   "metadata": {},
   "outputs": [
    {
     "data": {
      "text/plain": [
       "array([4, 6, 6])"
      ]
     },
     "execution_count": 128,
     "metadata": {},
     "output_type": "execute_result"
    }
   ],
   "source": [
    "# Calcular a soma por clientes (colunas)\n",
    "acidentes.sum(axis = 0)"
   ]
  },
  {
   "cell_type": "code",
   "execution_count": 129,
   "metadata": {},
   "outputs": [
    {
     "data": {
      "text/plain": [
       "array([6, 1, 7, 0, 2])"
      ]
     },
     "execution_count": 129,
     "metadata": {},
     "output_type": "execute_result"
    }
   ],
   "source": [
    "# Calcular a soma por anos (linhas)\n",
    "acidentes.sum(axis = 1)"
   ]
  },
  {
   "cell_type": "code",
   "execution_count": 130,
   "metadata": {},
   "outputs": [
    {
     "data": {
      "text/plain": [
       "4"
      ]
     },
     "execution_count": 130,
     "metadata": {},
     "output_type": "execute_result"
    }
   ],
   "source": [
    "# Calcular o máximo de acidentes \n",
    "acidentes.max()"
   ]
  },
  {
   "cell_type": "code",
   "execution_count": 131,
   "metadata": {},
   "outputs": [
    {
     "data": {
      "text/plain": [
       "array([2, 3, 4])"
      ]
     },
     "execution_count": 131,
     "metadata": {},
     "output_type": "execute_result"
    }
   ],
   "source": [
    "# Calcular o máximo de acidentes por cliente (colunas)\n",
    "acidentes.max(axis = 0)"
   ]
  },
  {
   "cell_type": "code",
   "execution_count": 132,
   "metadata": {},
   "outputs": [
    {
     "data": {
      "text/plain": [
       "array([3, 1, 4, 0, 1])"
      ]
     },
     "execution_count": 132,
     "metadata": {},
     "output_type": "execute_result"
    }
   ],
   "source": [
    "# Calcular o máximo de acidentes por ano (linhas)\n",
    "acidentes.max(axis = 1)"
   ]
  },
  {
   "cell_type": "code",
   "execution_count": 133,
   "metadata": {},
   "outputs": [
    {
     "data": {
      "text/plain": [
       "array([1, 0, 1, 0, 0])"
      ]
     },
     "execution_count": 133,
     "metadata": {},
     "output_type": "execute_result"
    }
   ],
   "source": [
    "# O mesmo cálculo de máximo, vale para o mínimo\n",
    "\n",
    "acidentes.min(axis = 1)"
   ]
  },
  {
   "cell_type": "code",
   "execution_count": 134,
   "metadata": {},
   "outputs": [
    {
     "data": {
      "text/plain": [
       "1.0666666666666667"
      ]
     },
     "execution_count": 134,
     "metadata": {},
     "output_type": "execute_result"
    }
   ],
   "source": [
    "# Calcular a média de acidentes ao todo\n",
    "acidentes.mean()"
   ]
  },
  {
   "cell_type": "code",
   "execution_count": 135,
   "metadata": {},
   "outputs": [
    {
     "data": {
      "text/plain": [
       "array([0.8, 1.2, 1.2])"
      ]
     },
     "execution_count": 135,
     "metadata": {},
     "output_type": "execute_result"
    }
   ],
   "source": [
    "# Calcular a média de acidentes por cliente (colunas)\n",
    "acidentes.mean(axis = 0)"
   ]
  },
  {
   "cell_type": "code",
   "execution_count": 136,
   "metadata": {},
   "outputs": [
    {
     "data": {
      "text/plain": [
       "array([2.        , 0.33333333, 2.33333333, 0.        , 0.66666667])"
      ]
     },
     "execution_count": 136,
     "metadata": {},
     "output_type": "execute_result"
    }
   ],
   "source": [
    "# Calcular a média de acidentes por aluno (linhas)\n",
    "acidentes.mean(axis = 1)"
   ]
  },
  {
   "cell_type": "code",
   "execution_count": 137,
   "metadata": {},
   "outputs": [
    {
     "data": {
      "text/plain": [
       "array([[1, 3, 2],\n",
       "       [1, 4, 2],\n",
       "       [3, 5, 6],\n",
       "       [3, 5, 6],\n",
       "       [4, 6, 6]])"
      ]
     },
     "execution_count": 137,
     "metadata": {},
     "output_type": "execute_result"
    }
   ],
   "source": [
    "# Calcular a soma acumulative de acidentes por cliente (colunas)\n",
    "acidentes.cumsum(axis = 0)"
   ]
  },
  {
   "cell_type": "code",
   "execution_count": 138,
   "metadata": {},
   "outputs": [
    {
     "data": {
      "text/plain": [
       "array([[1, 4, 6],\n",
       "       [0, 1, 1],\n",
       "       [2, 3, 7],\n",
       "       [0, 0, 0],\n",
       "       [1, 2, 2]])"
      ]
     },
     "execution_count": 138,
     "metadata": {},
     "output_type": "execute_result"
    }
   ],
   "source": [
    "# Calcular a soma acumulative de acidentes por ano (linhas)\n",
    "acidentes.cumsum(axis =1)"
   ]
  },
  {
   "cell_type": "markdown",
   "metadata": {},
   "source": [
    "## Exercícios"
   ]
  },
  {
   "cell_type": "markdown",
   "metadata": {},
   "source": [
    "### Ainda no conjunto 'especies'\n",
    "\n",
    "* Adicione mais 2 espécies ao array: [[204, 10, 40, 12], [392, 11, 81, 11]]\n",
    "* Adicione mais uma coluna no array agora com o número de espécies encontradas com que indica se o animal enxerga ou não:\n",
    "[0, 1, 0, 0, 0, 0, 1, 0, 1, 1, 0, 0]\n",
    "* Faça um array com todas espécies menos as com ID: 623, 116, 613"
   ]
  },
  {
   "cell_type": "code",
   "execution_count": 164,
   "metadata": {},
   "outputs": [
    {
     "data": {
      "text/plain": [
       "array([[747,  89,  33,   5],\n",
       "       [623, 123,  32,  13],\n",
       "       [501,  22,  49,   2],\n",
       "       [116, 101,  42,  10],\n",
       "       [297,  56,  69,  22],\n",
       "       [613,  64,  27,   7],\n",
       "       [295,  84,  29,  14],\n",
       "       [692, 105,  72,  16],\n",
       "       [229, 103,  35,   5],\n",
       "       [374, 124,  70,   1],\n",
       "       [204,  10,  40,  12],\n",
       "       [392,  11,  81,  11]])"
      ]
     },
     "execution_count": 164,
     "metadata": {},
     "output_type": "execute_result"
    }
   ],
   "source": [
    "# Adicione mais 2 espécies ao array: [[204, 10, 40, 12], [392, 11, 81, 11]]\n",
    "\n",
    "adicionar_2esp = [[204, 10, 40, 12], [392, 11, 81, 11]]\n",
    "\n",
    "especies = np.concatenate((especies, adicionar_2esp))\n",
    "especies"
   ]
  },
  {
   "cell_type": "code",
   "execution_count": 168,
   "metadata": {},
   "outputs": [
    {
     "data": {
      "text/plain": [
       "array([[747,  89,  33,   5,   0,   0],\n",
       "       [623, 123,  32,  13,   1,   1],\n",
       "       [501,  22,  49,   2,   0,   0],\n",
       "       [116, 101,  42,  10,   0,   0],\n",
       "       [297,  56,  69,  22,   0,   0],\n",
       "       [613,  64,  27,   7,   0,   0],\n",
       "       [295,  84,  29,  14,   1,   1],\n",
       "       [692, 105,  72,  16,   0,   0],\n",
       "       [229, 103,  35,   5,   1,   1],\n",
       "       [374, 124,  70,   1,   1,   1],\n",
       "       [204,  10,  40,  12,   0,   0],\n",
       "       [392,  11,  81,  11,   1,   1]])"
      ]
     },
     "execution_count": 168,
     "metadata": {},
     "output_type": "execute_result"
    }
   ],
   "source": [
    "# Adicione mais uma coluna no array agora com o número de espécies encontradas \n",
    "# com que indica se o animal enxerga ou não: [0, 1, 0, 0, 0, 0, 1, 0, 1, 1, 0, 0]\n",
    "\n",
    "especies_enxergam = np.array([0, 1, 0, 0, 0, 0, 1, 0, 1, 1, 0, 1]).reshape(12,1)\n",
    "\n",
    "especies = np.concatenate((especies, especies_enxergam), axis=1)\n",
    "especies"
   ]
  },
  {
   "cell_type": "code",
   "execution_count": 170,
   "metadata": {},
   "outputs": [
    {
     "data": {
      "text/plain": [
       "array([[747,  89,  33,   5,   0,   0],\n",
       "       [501,  22,  49,   2,   0,   0],\n",
       "       [297,  56,  69,  22,   0,   0],\n",
       "       [295,  84,  29,  14,   1,   1],\n",
       "       [692, 105,  72,  16,   0,   0],\n",
       "       [229, 103,  35,   5,   1,   1],\n",
       "       [374, 124,  70,   1,   1,   1],\n",
       "       [204,  10,  40,  12,   0,   0],\n",
       "       [392,  11,  81,  11,   1,   1]])"
      ]
     },
     "execution_count": 170,
     "metadata": {},
     "output_type": "execute_result"
    }
   ],
   "source": [
    "# Faça um array com todas espécies menos as com ID: 623, 116, 613\n",
    "\n",
    "ids_para_remover = [623, 116, 613]\n",
    "\n",
    "indices_para_remover = np.where(np.isin(especies[:, 0], ids_para_remover))[0]\n",
    "\n",
    "especies_filtrado = np.delete(especies, indices_para_remover, axis=0)\n",
    "\n",
    "especies_filtrado\n"
   ]
  }
 ],
 "metadata": {
  "kernelspec": {
   "display_name": "base",
   "language": "python",
   "name": "python3"
  },
  "language_info": {
   "codemirror_mode": {
    "name": "ipython",
    "version": 3
   },
   "file_extension": ".py",
   "mimetype": "text/x-python",
   "name": "python",
   "nbconvert_exporter": "python",
   "pygments_lexer": "ipython3",
   "version": "3.11.5"
  }
 },
 "nbformat": 4,
 "nbformat_minor": 2
}
