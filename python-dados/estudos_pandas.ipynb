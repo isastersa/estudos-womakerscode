{
 "cells": [
  {
   "cell_type": "markdown",
   "metadata": {},
   "source": [
    "## Estudos com a biblioteca PANDAS"
   ]
  },
  {
   "cell_type": "code",
   "execution_count": 1,
   "metadata": {},
   "outputs": [],
   "source": [
    "import pandas as pd \n"
   ]
  },
  {
   "cell_type": "code",
   "execution_count": 3,
   "metadata": {},
   "outputs": [],
   "source": [
    "dados_cachorros = {\n",
    "    'Nome': ['Max', 'Bella', 'Rocky', 'Luna'],\n",
    "    'Raça': ['Labrador', 'Poodle', 'Boxer', 'Golden Retriever'],\n",
    "    'Cor': ['Amarelo', 'Branco', 'Marrom', 'Dourado'],\n",
    "    'Peso (kg)': [60, 35, 65, 55],\n",
    "    'Altura (cm)': [45, 17, 38, 35],\n",
    "    'Data de nascimento': ['01/05/2023', '10/01/2024', '03/08/2022', '12/02/2021']\n",
    "}"
   ]
  },
  {
   "cell_type": "code",
   "execution_count": 4,
   "metadata": {},
   "outputs": [],
   "source": [
    "#Criando o DataFrame\n",
    "\n",
    "df_cachorros = pd.DataFrame(dados_cachorros)"
   ]
  }
 ],
 "metadata": {
  "kernelspec": {
   "display_name": "base",
   "language": "python",
   "name": "python3"
  },
  "language_info": {
   "codemirror_mode": {
    "name": "ipython",
    "version": 3
   },
   "file_extension": ".py",
   "mimetype": "text/x-python",
   "name": "python",
   "nbconvert_exporter": "python",
   "pygments_lexer": "ipython3",
   "version": "3.11.5"
  }
 },
 "nbformat": 4,
 "nbformat_minor": 2
}
